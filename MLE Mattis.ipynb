{
 "cells": [
  {
   "cell_type": "markdown",
   "metadata": {},
   "source": [
    "Miguel Mattis Maximum Likelihood Estimation Exercise"
   ]
  },
  {
   "cell_type": "markdown",
   "metadata": {
    "colab_type": "text",
    "id": "T6PCHrUJbr9H"
   },
   "source": [
    "#Maximum Likelihood Estimation"
   ]
  },
  {
   "cell_type": "markdown",
   "metadata": {
    "colab_type": "text",
    "id": "qYIdv_TF2wGh"
   },
   "source": [
    "The Maximum likelihood function will calculate the overall functions maximum likelihood that it will hit a specific number. It follows the function $p^n * (1-p)^(n-1)$. These will be calculated manually and then compared to using the actual function"
   ]
  },
  {
   "cell_type": "code",
   "execution_count": 0,
   "metadata": {
    "colab": {
     "base_uri": "https://localhost:8080/",
     "height": 509
    },
    "colab_type": "code",
    "executionInfo": {
     "elapsed": 508,
     "status": "ok",
     "timestamp": 1554692265770,
     "user": {
      "displayName": "Tristan Irons",
      "photoUrl": "",
      "userId": "06363254473347900275"
     },
     "user_tz": 240
    },
    "id": "J70xgaqw2yQQ",
    "outputId": "5436aa59-8985-4849-c11a-37f5d318651c"
   },
   "outputs": [
    {
     "data": {
      "text/html": [
       "<div class=\"mxgraph\" style=\"max-width:100%;border:1px solid transparent;\" data-mxgraph=\"{&quot;highlight&quot;:&quot;#0000ff&quot;,&quot;nav&quot;:true,&quot;resize&quot;:true,&quot;toolbar&quot;:&quot;zoom layers lightbox&quot;,&quot;edit&quot;:&quot;_blank&quot;,&quot;xml&quot;:&quot;&lt;mxfile modified=\\&quot;2019-04-08T02:57:38.239Z\\&quot; host=\\&quot;www.draw.io\\&quot; agent=\\&quot;Mozilla/5.0 (Windows NT 10.0; Win64; x64) AppleWebKit/537.36 (KHTML, like Gecko) Chrome/73.0.3683.86 Safari/537.36\\&quot; etag=\\&quot;HCbSf2SMyf0mKBm6y943\\&quot; version=\\&quot;10.6.0\\&quot; type=\\&quot;google\\&quot;&gt;&lt;diagram id=\\&quot;MUb6XdWlYKxxCSPsXOCQ\\&quot; name=\\&quot;Page-1\\&quot;&gt;5VfJbtswEP0aH11os+wcvSU5pEUBp0t6I8yxxJTSqDRlS/36UhJprTHcNkYK9CTNG3I4nDfzbI3cZZTdCZKE75ECHzkWzUbuauQ4tnvjqUeB5BUy9TUQCEb1ohrYsJ+gQUujKaOwby2UiFyypA1uMY5hK1sYEQKP7WU75O1TExJAD9hsCe+jXxiVYYXOJlaN3wMLQnOybWlPRMxiDexDQvHYgNz1yF0KRFm9RdkSeFE8U5dq3+0L3lNiAmJ5yYZv1h2df7p9SLObx8/wDJY9puOpzk3m5sJA1f21iUKGGGBM+LpGFwLTmEIR1VJWveYBMVGgrcBnkDLXZJJUooJCGXHtVQmL/KveXxpPhfFuYsxV1nSucm1VuRYJvlgCDe0xFVs4c2/TSkQEIM+s809EqQ4HjEDlo/YJ4ESyQzsPolstOK2r2VAvmpDfIEfHPRCe6pNGjs9Vuosdqgs3afN/pGgc431Z+Lla4PpJVjvVW1A874HQvQmlMquiVb5eP0jIZJu+vRT4HZbIUSgkxrhoih3jvAMRzoJYmVvFDih8cQAhmRqtuXZEjNKyo44hk7BJSEnZUQlJr8t0JVQAyM6T3yfLbJjpQczNDFfmsR5r24x12BjpqXUlep0BervDGNN5IWJ1URs8XDoO/Yo0rjx0Y4Nd3OX6hI/IyrbUBXesdsEdv1PJakr1rqZydQJ5TjuQ7XUCVWPcC1Sycrr2nxM1eVuRrHXxqSWLVxdJ90KR9N5SJN0rieQjYfz/E0nX7cyssZsq6Q1oxuxaKuldiV97/OFSdttVHuKhp8p/R4LXJsGzBkhwBkjoCuyrkeBfiYR/lgLP78zBwJ+FV2JAmfVHQPWTVX9Kuetf&lt;/diagram&gt;&lt;/mxfile&gt;&quot;}\"></div>\n",
       "<script type=\"text/javascript\" src=\"https://www.draw.io/js/viewer.min.js\"></script>"
      ],
      "text/plain": [
       "<IPython.core.display.HTML object>"
      ]
     },
     "metadata": {
      "tags": []
     },
     "output_type": "display_data"
    }
   ],
   "source": [
    "%%html\n",
    "<div class=\"mxgraph\" style=\"max-width:100%;border:1px solid transparent;\" data-mxgraph=\"{&quot;highlight&quot;:&quot;#0000ff&quot;,&quot;nav&quot;:true,&quot;resize&quot;:true,&quot;toolbar&quot;:&quot;zoom layers lightbox&quot;,&quot;edit&quot;:&quot;_blank&quot;,&quot;xml&quot;:&quot;&lt;mxfile modified=\\&quot;2019-04-08T02:57:38.239Z\\&quot; host=\\&quot;www.draw.io\\&quot; agent=\\&quot;Mozilla/5.0 (Windows NT 10.0; Win64; x64) AppleWebKit/537.36 (KHTML, like Gecko) Chrome/73.0.3683.86 Safari/537.36\\&quot; etag=\\&quot;HCbSf2SMyf0mKBm6y943\\&quot; version=\\&quot;10.6.0\\&quot; type=\\&quot;google\\&quot;&gt;&lt;diagram id=\\&quot;MUb6XdWlYKxxCSPsXOCQ\\&quot; name=\\&quot;Page-1\\&quot;&gt;5VfJbtswEP0aH11os+wcvSU5pEUBp0t6I8yxxJTSqDRlS/36UhJprTHcNkYK9CTNG3I4nDfzbI3cZZTdCZKE75ECHzkWzUbuauQ4tnvjqUeB5BUy9TUQCEb1ohrYsJ+gQUujKaOwby2UiFyypA1uMY5hK1sYEQKP7WU75O1TExJAD9hsCe+jXxiVYYXOJlaN3wMLQnOybWlPRMxiDexDQvHYgNz1yF0KRFm9RdkSeFE8U5dq3+0L3lNiAmJ5yYZv1h2df7p9SLObx8/wDJY9puOpzk3m5sJA1f21iUKGGGBM+LpGFwLTmEIR1VJWveYBMVGgrcBnkDLXZJJUooJCGXHtVQmL/KveXxpPhfFuYsxV1nSucm1VuRYJvlgCDe0xFVs4c2/TSkQEIM+s809EqQ4HjEDlo/YJ4ESyQzsPolstOK2r2VAvmpDfIEfHPRCe6pNGjs9Vuosdqgs3afN/pGgc431Z+Lla4PpJVjvVW1A874HQvQmlMquiVb5eP0jIZJu+vRT4HZbIUSgkxrhoih3jvAMRzoJYmVvFDih8cQAhmRqtuXZEjNKyo44hk7BJSEnZUQlJr8t0JVQAyM6T3yfLbJjpQczNDFfmsR5r24x12BjpqXUlep0BervDGNN5IWJ1URs8XDoO/Yo0rjx0Y4Nd3OX6hI/IyrbUBXesdsEdv1PJakr1rqZydQJ5TjuQ7XUCVWPcC1Sycrr2nxM1eVuRrHXxqSWLVxdJ90KR9N5SJN0rieQjYfz/E0nX7cyssZsq6Q1oxuxaKuldiV97/OFSdttVHuKhp8p/R4LXJsGzBkhwBkjoCuyrkeBfiYR/lgLP78zBwJ+FV2JAmfVHQPWTVX9Kuetf&lt;/diagram&gt;&lt;/mxfile&gt;&quot;}\"></div>\n",
    "<script type=\"text/javascript\" src=\"https://www.draw.io/js/viewer.min.js\"></script>\n"
   ]
  },
  {
   "cell_type": "code",
   "execution_count": 0,
   "metadata": {
    "colab": {},
    "colab_type": "code",
    "id": "y4JVIOUEmG6I"
   },
   "outputs": [],
   "source": [
    "import numpy as np"
   ]
  },
  {
   "cell_type": "code",
   "execution_count": 0,
   "metadata": {
    "colab": {},
    "colab_type": "code",
    "id": "Ubd_qJLTIi7W"
   },
   "outputs": [],
   "source": [
    "def coin(p): #defines a function where coin(p), if generating a random number from 0 to 1, will return 1 if it less than and 0 if not, than the value p.\n",
    "  \n",
    "  return int(np.random.random() < p)"
   ]
  },
  {
   "cell_type": "code",
   "execution_count": 0,
   "metadata": {
    "colab": {},
    "colab_type": "code",
    "id": "r-eeCgI-mG8g"
   },
   "outputs": [],
   "source": [
    "N = 100 #iterates the function 100 times\n",
    "p = 0.3\n",
    "\n",
    "S = np.zeros((N,)) \n",
    "\n",
    "for i in range(N):\n",
    "  \n",
    "  S[i] = coin(p) #resets the function each time and for each iteration from 1 to 100, checks if the random variable from 0 to 1 is less than p"
   ]
  },
  {
   "cell_type": "code",
   "execution_count": 0,
   "metadata": {
    "colab": {
     "base_uri": "https://localhost:8080/",
     "height": 34
    },
    "colab_type": "code",
    "executionInfo": {
     "elapsed": 404,
     "status": "ok",
     "timestamp": 1554684983509,
     "user": {
      "displayName": "Tristan Irons",
      "photoUrl": "",
      "userId": "06363254473347900275"
     },
     "user_tz": 240
    },
    "id": "d2w65AtPmG12",
    "outputId": "89734b9d-e8c6-46f5-f1ce-cc90c08ad59a"
   },
   "outputs": [
    {
     "data": {
      "text/plain": [
       "1"
      ]
     },
     "execution_count": 80,
     "metadata": {
      "tags": []
     },
     "output_type": "execute_result"
    }
   ],
   "source": [
    "coin(0.3)"
   ]
  },
  {
   "cell_type": "code",
   "execution_count": 0,
   "metadata": {
    "colab": {
     "base_uri": "https://localhost:8080/",
     "height": 119
    },
    "colab_type": "code",
    "executionInfo": {
     "elapsed": 1218,
     "status": "ok",
     "timestamp": 1554684308176,
     "user": {
      "displayName": "Tristan Irons",
      "photoUrl": "",
      "userId": "06363254473347900275"
     },
     "user_tz": 240
    },
    "id": "gZYnGdocoHz4",
    "outputId": "3b83cfd4-cf1d-413d-f1bd-cb85b816506f"
   },
   "outputs": [
    {
     "data": {
      "text/plain": [
       "array([1., 0., 1., 0., 0., 1., 1., 0., 0., 0., 0., 0., 0., 0., 0., 1., 0.,\n",
       "       0., 0., 1., 0., 1., 1., 0., 0., 1., 0., 0., 0., 1., 0., 0., 0., 1.,\n",
       "       0., 0., 0., 0., 0., 0., 1., 1., 1., 1., 0., 0., 1., 1., 0., 0., 0.,\n",
       "       0., 1., 0., 0., 0., 1., 1., 0., 0., 0., 0., 1., 0., 0., 0., 0., 0.,\n",
       "       0., 1., 0., 0., 0., 0., 0., 0., 0., 0., 0., 1., 0., 1., 0., 0., 0.,\n",
       "       0., 1., 0., 1., 0., 1., 1., 0., 1., 1., 0., 0., 1., 0., 0.])"
      ]
     },
     "execution_count": 5,
     "metadata": {
      "tags": []
     },
     "output_type": "execute_result"
    }
   ],
   "source": [
    "S"
   ]
  },
  {
   "cell_type": "code",
   "execution_count": 0,
   "metadata": {
    "colab": {
     "base_uri": "https://localhost:8080/",
     "height": 34
    },
    "colab_type": "code",
    "executionInfo": {
     "elapsed": 1194,
     "status": "ok",
     "timestamp": 1554684308177,
     "user": {
      "displayName": "Tristan Irons",
      "photoUrl": "",
      "userId": "06363254473347900275"
     },
     "user_tz": 240
    },
    "id": "xcz0RGhkoYns",
    "outputId": "f4edfa49-f39a-43bf-b87f-6315f1fe5d66"
   },
   "outputs": [
    {
     "data": {
      "text/plain": [
       "0.31"
      ]
     },
     "execution_count": 6,
     "metadata": {
      "tags": []
     },
     "output_type": "execute_result"
    }
   ],
   "source": [
    "sum(S)/S.shape[0] #the sum of the results being 1 divided by the shape of the function being 100"
   ]
  },
  {
   "cell_type": "code",
   "execution_count": 0,
   "metadata": {
    "colab": {
     "base_uri": "https://localhost:8080/",
     "height": 34
    },
    "colab_type": "code",
    "executionInfo": {
     "elapsed": 1172,
     "status": "ok",
     "timestamp": 1554684308177,
     "user": {
      "displayName": "Tristan Irons",
      "photoUrl": "",
      "userId": "06363254473347900275"
     },
     "user_tz": 240
    },
    "id": "uymhKFRjO6sH",
    "outputId": "0fd7f15a-bb78-42ca-9043-cef10d7f701b"
   },
   "outputs": [
    {
     "data": {
      "text/plain": [
       "100"
      ]
     },
     "execution_count": 7,
     "metadata": {
      "tags": []
     },
     "output_type": "execute_result"
    }
   ],
   "source": [
    "S.shape[0]"
   ]
  },
  {
   "cell_type": "code",
   "execution_count": 0,
   "metadata": {
    "colab": {},
    "colab_type": "code",
    "id": "gP3_B2VAoZ9c"
   },
   "outputs": [],
   "source": [
    "num_heads = np.sum(S) #if we indicate it as a coin, the 1 would be heads and thus num_heads is the sum of S which means below 0.3"
   ]
  },
  {
   "cell_type": "code",
   "execution_count": 0,
   "metadata": {
    "colab": {},
    "colab_type": "code",
    "id": "f07VLgIQqYVL"
   },
   "outputs": [],
   "source": [
    "num_tails = N - np.sum(S) #if we indicate it as a coin, the 1 would be heads and thus num_tails is N minus the sum of S which means the values above 0.3"
   ]
  },
  {
   "cell_type": "code",
   "execution_count": 0,
   "metadata": {
    "colab": {},
    "colab_type": "code",
    "id": "hA2uD2saOmzz"
   },
   "outputs": [],
   "source": []
  },
  {
   "cell_type": "code",
   "execution_count": 0,
   "metadata": {
    "colab": {
     "base_uri": "https://localhost:8080/",
     "height": 34
    },
    "colab_type": "code",
    "executionInfo": {
     "elapsed": 1159,
     "status": "ok",
     "timestamp": 1554684308184,
     "user": {
      "displayName": "Tristan Irons",
      "photoUrl": "",
      "userId": "06363254473347900275"
     },
     "user_tz": 240
    },
    "id": "fkxBs9WKOm7j",
    "outputId": "00224a69-49e6-4ff4-e020-3c5bff055d09"
   },
   "outputs": [
    {
     "data": {
      "text/plain": [
       "1.2662622426477919e-27"
      ]
     },
     "execution_count": 10,
     "metadata": {
      "tags": []
     },
     "output_type": "execute_result"
    }
   ],
   "source": [
    "(p**num_heads)*(1-p)**num_tails #follows the formula p^n * (1-p)^n-1"
   ]
  },
  {
   "cell_type": "code",
   "execution_count": 0,
   "metadata": {
    "colab": {},
    "colab_type": "code",
    "id": "6iP6HFq9OnEm"
   },
   "outputs": [],
   "source": []
  },
  {
   "cell_type": "code",
   "execution_count": 0,
   "metadata": {
    "colab": {
     "base_uri": "https://localhost:8080/",
     "height": 34
    },
    "colab_type": "code",
    "executionInfo": {
     "elapsed": 1146,
     "status": "ok",
     "timestamp": 1554684308187,
     "user": {
      "displayName": "Tristan Irons",
      "photoUrl": "",
      "userId": "06363254473347900275"
     },
     "user_tz": 240
    },
    "id": "ZvooK24Wq03z",
    "outputId": "289c9434-4dd1-4449-854b-ab649e22f715"
   },
   "outputs": [
    {
     "data": {
      "text/plain": [
       "1.2662622426477919e-27"
      ]
     },
     "execution_count": 11,
     "metadata": {
      "tags": []
     },
     "output_type": "execute_result"
    }
   ],
   "source": [
    "(p**np.sum(S))*((1-p)**np.sum(np.logical_not(S))) #another way of stating the above"
   ]
  },
  {
   "cell_type": "code",
   "execution_count": 0,
   "metadata": {
    "colab": {
     "base_uri": "https://localhost:8080/",
     "height": 102
    },
    "colab_type": "code",
    "executionInfo": {
     "elapsed": 1138,
     "status": "ok",
     "timestamp": 1554684308189,
     "user": {
      "displayName": "Tristan Irons",
      "photoUrl": "",
      "userId": "06363254473347900275"
     },
     "user_tz": 240
    },
    "id": "dlhxLCd4QNOD",
    "outputId": "2a0591d1-b5da-449a-b525-0f3fd90e5ec1"
   },
   "outputs": [
    {
     "data": {
      "text/plain": [
       "array([0, 1, 0, 1, 1, 0, 0, 1, 1, 1, 1, 1, 1, 1, 1, 0, 1, 1, 1, 0, 1, 0,\n",
       "       0, 1, 1, 0, 1, 1, 1, 0, 1, 1, 1, 0, 1, 1, 1, 1, 1, 1, 0, 0, 0, 0,\n",
       "       1, 1, 0, 0, 1, 1, 1, 1, 0, 1, 1, 1, 0, 0, 1, 1, 1, 1, 0, 1, 1, 1,\n",
       "       1, 1, 1, 0, 1, 1, 1, 1, 1, 1, 1, 1, 1, 0, 1, 0, 1, 1, 1, 1, 0, 1,\n",
       "       0, 1, 0, 0, 1, 0, 0, 1, 1, 0, 1, 1])"
      ]
     },
     "execution_count": 12,
     "metadata": {
      "tags": []
     },
     "output_type": "execute_result"
    }
   ],
   "source": [
    "np.logical_not(S).astype(int) #tells us the opposite of list S"
   ]
  },
  {
   "cell_type": "code",
   "execution_count": 0,
   "metadata": {
    "colab": {},
    "colab_type": "code",
    "id": "zeISVHMXQNYV"
   },
   "outputs": [],
   "source": []
  },
  {
   "cell_type": "code",
   "execution_count": 0,
   "metadata": {
    "colab": {},
    "colab_type": "code",
    "id": "XwJOd4lio1ND"
   },
   "outputs": [],
   "source": [
    "def likelihood(p,S): #defining the likelihood function\n",
    "  \n",
    "  return (p**np.sum(S))*((1-p)**np.sum(np.logical_not(S)))"
   ]
  },
  {
   "cell_type": "code",
   "execution_count": 0,
   "metadata": {
    "colab": {},
    "colab_type": "code",
    "id": "B9YaWd2trvk-"
   },
   "outputs": [],
   "source": []
  },
  {
   "cell_type": "code",
   "execution_count": 0,
   "metadata": {
    "colab": {},
    "colab_type": "code",
    "id": "Z5m01a7BQnAP"
   },
   "outputs": [],
   "source": [
    "def likelihood(p,S): #defining the likelihood function with respect to coin values\n",
    "  \n",
    "  num_heads = np.sum(S)\n",
    "  num_tails = np.sum(np.logical_not(S))\n",
    "  \n",
    "  return (p**num_heads)*((1-p)**num_tails)"
   ]
  },
  {
   "cell_type": "code",
   "execution_count": 0,
   "metadata": {
    "colab": {},
    "colab_type": "code",
    "id": "PRNs3xfAQm8y"
   },
   "outputs": [],
   "source": [
    "start = 0 #goes from value 0 to 1 with 100 even steps\n",
    "stop = 1\n",
    "steps = 100\n",
    "p = np.linspace(start,stop,steps) "
   ]
  },
  {
   "cell_type": "code",
   "execution_count": 0,
   "metadata": {
    "colab": {},
    "colab_type": "code",
    "id": "TeQHOUa0rvno"
   },
   "outputs": [],
   "source": [
    "p = np.linspace(0,1,100)"
   ]
  },
  {
   "cell_type": "code",
   "execution_count": 0,
   "metadata": {
    "colab": {
     "base_uri": "https://localhost:8080/",
     "height": 357
    },
    "colab_type": "code",
    "executionInfo": {
     "elapsed": 1327,
     "status": "ok",
     "timestamp": 1554684308394,
     "user": {
      "displayName": "Tristan Irons",
      "photoUrl": "",
      "userId": "06363254473347900275"
     },
     "user_tz": 240
    },
    "id": "hlynMlZervuL",
    "outputId": "c3edc65e-137e-47a8-d207-9c6b60d089cc"
   },
   "outputs": [
    {
     "data": {
      "text/plain": [
       "array([0.        , 0.01010101, 0.02020202, 0.03030303, 0.04040404,\n",
       "       0.05050505, 0.06060606, 0.07070707, 0.08080808, 0.09090909,\n",
       "       0.1010101 , 0.11111111, 0.12121212, 0.13131313, 0.14141414,\n",
       "       0.15151515, 0.16161616, 0.17171717, 0.18181818, 0.19191919,\n",
       "       0.2020202 , 0.21212121, 0.22222222, 0.23232323, 0.24242424,\n",
       "       0.25252525, 0.26262626, 0.27272727, 0.28282828, 0.29292929,\n",
       "       0.3030303 , 0.31313131, 0.32323232, 0.33333333, 0.34343434,\n",
       "       0.35353535, 0.36363636, 0.37373737, 0.38383838, 0.39393939,\n",
       "       0.4040404 , 0.41414141, 0.42424242, 0.43434343, 0.44444444,\n",
       "       0.45454545, 0.46464646, 0.47474747, 0.48484848, 0.49494949,\n",
       "       0.50505051, 0.51515152, 0.52525253, 0.53535354, 0.54545455,\n",
       "       0.55555556, 0.56565657, 0.57575758, 0.58585859, 0.5959596 ,\n",
       "       0.60606061, 0.61616162, 0.62626263, 0.63636364, 0.64646465,\n",
       "       0.65656566, 0.66666667, 0.67676768, 0.68686869, 0.6969697 ,\n",
       "       0.70707071, 0.71717172, 0.72727273, 0.73737374, 0.74747475,\n",
       "       0.75757576, 0.76767677, 0.77777778, 0.78787879, 0.7979798 ,\n",
       "       0.80808081, 0.81818182, 0.82828283, 0.83838384, 0.84848485,\n",
       "       0.85858586, 0.86868687, 0.87878788, 0.88888889, 0.8989899 ,\n",
       "       0.90909091, 0.91919192, 0.92929293, 0.93939394, 0.94949495,\n",
       "       0.95959596, 0.96969697, 0.97979798, 0.98989899, 1.        ])"
      ]
     },
     "execution_count": 17,
     "metadata": {
      "tags": []
     },
     "output_type": "execute_result"
    }
   ],
   "source": [
    " p"
   ]
  },
  {
   "cell_type": "code",
   "execution_count": 0,
   "metadata": {
    "colab": {},
    "colab_type": "code",
    "id": "EhcoAMh0Sh6v"
   },
   "outputs": [],
   "source": [
    "L = likelihood(np.array([0.0,0.1]),S) #chance of the probability of the coin"
   ]
  },
  {
   "cell_type": "code",
   "execution_count": 0,
   "metadata": {
    "colab": {
     "base_uri": "https://localhost:8080/",
     "height": 34
    },
    "colab_type": "code",
    "executionInfo": {
     "elapsed": 1326,
     "status": "ok",
     "timestamp": 1554684308401,
     "user": {
      "displayName": "Tristan Irons",
      "photoUrl": "",
      "userId": "06363254473347900275"
     },
     "user_tz": 240
    },
    "id": "mvEwjbi6TBe2",
    "outputId": "f639106b-8758-4ec3-ad79-797f2aa9e312"
   },
   "outputs": [
    {
     "data": {
      "text/plain": [
       "array([0.00000000e+00, 6.96198609e-35])"
      ]
     },
     "execution_count": 19,
     "metadata": {
      "tags": []
     },
     "output_type": "execute_result"
    }
   ],
   "source": [
    "L #the likelihood at 0 of it occuring"
   ]
  },
  {
   "cell_type": "code",
   "execution_count": 0,
   "metadata": {
    "colab": {},
    "colab_type": "code",
    "id": "K4rsrl0hrvwb"
   },
   "outputs": [],
   "source": [
    "L = likelihood(p,S) #the likelihood off all the runs"
   ]
  },
  {
   "cell_type": "code",
   "execution_count": 0,
   "metadata": {
    "colab": {
     "base_uri": "https://localhost:8080/",
     "height": 442
    },
    "colab_type": "code",
    "executionInfo": {
     "elapsed": 1321,
     "status": "ok",
     "timestamp": 1554684308407,
     "user": {
      "displayName": "Tristan Irons",
      "photoUrl": "",
      "userId": "06363254473347900275"
     },
     "user_tz": 240
    },
    "id": "GYjmfFOirvy7",
    "outputId": "52320086-56c4-49cb-c042-ae0cbcab4d87"
   },
   "outputs": [
    {
     "data": {
      "text/plain": [
       "array([0.00000000e+000, 6.77765975e-063, 7.17232681e-054, 1.00914719e-048,\n",
       "       3.65821340e-045, 1.77980562e-042, 2.42377752e-040, 1.36735054e-038,\n",
       "       4.03762710e-037, 7.25657159e-036, 8.79814264e-035, 7.74387187e-034,\n",
       "       5.22309107e-033, 2.81266234e-032, 1.24840506e-031, 4.68360552e-031,\n",
       "       1.51561319e-030, 4.30083635e-030, 1.08491197e-029, 2.46065809e-029,\n",
       "       5.06616937e-029, 9.54566662e-029, 1.65746239e-028, 2.66797235e-028,\n",
       "       4.00180762e-028, 5.61835880e-028, 7.41193626e-028, 9.21933260e-028,\n",
       "       1.08444011e-027, 1.20943696e-027, 1.28181898e-027, 1.29362389e-027,\n",
       "       1.24534951e-027, 1.14536585e-027, 1.00774018e-027, 8.49196352e-028,\n",
       "       6.86050328e-028, 5.31814974e-028, 3.95850002e-028, 2.83086810e-028,\n",
       "       1.94593834e-028, 1.28620933e-028, 8.17661565e-029, 5.00007509e-029,\n",
       "       2.94129840e-029, 1.66432407e-029, 9.05749963e-030, 4.73963445e-030,\n",
       "       2.38397145e-030, 1.15209773e-030, 5.34663081e-031, 2.38123018e-031,\n",
       "       1.01703615e-031, 4.16219942e-032, 1.63061167e-032, 6.10883777e-033,\n",
       "       2.18591270e-033, 7.46108699e-034, 2.42568529e-034, 7.49949988e-035,\n",
       "       2.20103621e-035, 6.12031242e-036, 1.60894751e-036, 3.98942336e-037,\n",
       "       9.30582313e-038, 2.03629114e-038, 4.16681668e-039, 7.94598842e-040,\n",
       "       1.40673959e-040, 2.30233719e-041, 3.46722189e-042, 4.77962158e-043,\n",
       "       5.99635942e-044, 6.80221280e-045, 6.92666925e-046, 6.27993840e-047,\n",
       "       5.02253054e-048, 3.50637206e-049, 2.11127381e-050, 1.08140923e-051,\n",
       "       4.63733641e-053, 1.63425182e-054, 4.63111472e-056, 1.02844295e-057,\n",
       "       1.73554262e-059, 2.14437976e-061, 1.85363336e-063, 1.05945703e-065,\n",
       "       3.72853868e-068, 7.37175251e-071, 7.25657159e-074, 3.01976262e-077,\n",
       "       4.22345576e-081, 1.41869233e-085, 6.79789263e-091, 1.94111697e-097,\n",
       "       6.43065692e-106, 6.27298145e-118, 1.46045738e-138, 0.00000000e+000])"
      ]
     },
     "execution_count": 21,
     "metadata": {
      "tags": []
     },
     "output_type": "execute_result"
    }
   ],
   "source": [
    "L"
   ]
  },
  {
   "cell_type": "code",
   "execution_count": 0,
   "metadata": {
    "colab": {},
    "colab_type": "code",
    "id": "2F2JPOeqTeRV"
   },
   "outputs": [],
   "source": []
  },
  {
   "cell_type": "code",
   "execution_count": 0,
   "metadata": {
    "colab": {},
    "colab_type": "code",
    "id": "hSiEoUp6rv1O"
   },
   "outputs": [],
   "source": [
    "import matplotlib.pyplot as plt"
   ]
  },
  {
   "cell_type": "code",
   "execution_count": 0,
   "metadata": {
    "colab": {
     "base_uri": "https://localhost:8080/",
     "height": 375
    },
    "colab_type": "code",
    "executionInfo": {
     "elapsed": 1322,
     "status": "ok",
     "timestamp": 1554684308420,
     "user": {
      "displayName": "Tristan Irons",
      "photoUrl": "",
      "userId": "06363254473347900275"
     },
     "user_tz": 240
    },
    "id": "W_vmumWKsJZw",
    "outputId": "cf29fba5-3115-4adf-ecdd-351c10a86c67"
   },
   "outputs": [
    {
     "data": {
      "text/plain": [
       "[<matplotlib.lines.Line2D at 0x7f80fe1449e8>]"
      ]
     },
     "execution_count": 23,
     "metadata": {
      "tags": []
     },
     "output_type": "execute_result"
    },
    {
     "data": {
      "image/png": "[encoded data removed]",
      "text/plain": [
       "<Figure size 576x396 with 1 Axes>"
      ]
     },
     "metadata": {
      "tags": []
     },
     "output_type": "display_data"
    }
   ],
   "source": [
    "plt.plot(p,L)"
   ]
  },
  {
   "cell_type": "code",
   "execution_count": 0,
   "metadata": {
    "colab": {
     "base_uri": "https://localhost:8080/",
     "height": 34
    },
    "colab_type": "code",
    "executionInfo": {
     "elapsed": 1474,
     "status": "ok",
     "timestamp": 1554684308589,
     "user": {
      "displayName": "Tristan Irons",
      "photoUrl": "",
      "userId": "06363254473347900275"
     },
     "user_tz": 240
    },
    "id": "IvJOPeDQsu4m",
    "outputId": "85805d8c-c8a4-4f25-ebcb-8014d322ed12"
   },
   "outputs": [
    {
     "data": {
      "text/plain": [
       "31"
      ]
     },
     "execution_count": 24,
     "metadata": {
      "tags": []
     },
     "output_type": "execute_result"
    }
   ],
   "source": [
    "np.argmax(L) #The maximum"
   ]
  },
  {
   "cell_type": "code",
   "execution_count": 0,
   "metadata": {
    "colab": {
     "base_uri": "https://localhost:8080/",
     "height": 34
    },
    "colab_type": "code",
    "executionInfo": {
     "elapsed": 1465,
     "status": "ok",
     "timestamp": 1554684308590,
     "user": {
      "displayName": "Tristan Irons",
      "photoUrl": "",
      "userId": "06363254473347900275"
     },
     "user_tz": 240
    },
    "id": "HwcGrHiyswdu",
    "outputId": "843ae595-9b87-4934-935b-f4c9da1e917a"
   },
   "outputs": [
    {
     "data": {
      "text/plain": [
       "0.31313131313131315"
      ]
     },
     "execution_count": 25,
     "metadata": {
      "tags": []
     },
     "output_type": "execute_result"
    }
   ],
   "source": [
    "p[np.argmax(L)] #probability at the maximum"
   ]
  },
  {
   "cell_type": "code",
   "execution_count": 0,
   "metadata": {
    "colab": {
     "base_uri": "https://localhost:8080/",
     "height": 34
    },
    "colab_type": "code",
    "executionInfo": {
     "elapsed": 419,
     "status": "ok",
     "timestamp": 1554687460444,
     "user": {
      "displayName": "Tristan Irons",
      "photoUrl": "",
      "userId": "06363254473347900275"
     },
     "user_tz": 240
    },
    "id": "juu1AEG3DC_T",
    "outputId": "7cc5ef34-7afb-464e-ebc3-ee24737c7eb3"
   },
   "outputs": [
    {
     "data": {
      "text/plain": [
       "<function numpy.core.fromnumeric.sum>"
      ]
     },
     "execution_count": 81,
     "metadata": {
      "tags": []
     },
     "output_type": "execute_result"
    }
   ],
   "source": [
    "np.sum"
   ]
  },
  {
   "cell_type": "code",
   "execution_count": 0,
   "metadata": {
    "colab": {},
    "colab_type": "code",
    "id": "aS2s4uCHkdJL"
   },
   "outputs": [],
   "source": []
  },
  {
   "cell_type": "code",
   "execution_count": 0,
   "metadata": {
    "colab": {
     "base_uri": "https://localhost:8080/",
     "height": 442
    },
    "colab_type": "code",
    "executionInfo": {
     "elapsed": 1446,
     "status": "ok",
     "timestamp": 1554684308594,
     "user": {
      "displayName": "Tristan Irons",
      "photoUrl": "",
      "userId": "06363254473347900275"
     },
     "user_tz": 240
    },
    "id": "zwLOUuZukdiW",
    "outputId": "2c2e842c-a3a5-4a84-f7ca-837f31ffaaad"
   },
   "outputs": [
    {
     "data": {
      "text/plain": [
       "array([0.00000000e+000, 6.77765975e-063, 7.17232681e-054, 1.00914719e-048,\n",
       "       3.65821340e-045, 1.77980562e-042, 2.42377752e-040, 1.36735054e-038,\n",
       "       4.03762710e-037, 7.25657159e-036, 8.79814264e-035, 7.74387187e-034,\n",
       "       5.22309107e-033, 2.81266234e-032, 1.24840506e-031, 4.68360552e-031,\n",
       "       1.51561319e-030, 4.30083635e-030, 1.08491197e-029, 2.46065809e-029,\n",
       "       5.06616937e-029, 9.54566662e-029, 1.65746239e-028, 2.66797235e-028,\n",
       "       4.00180762e-028, 5.61835880e-028, 7.41193626e-028, 9.21933260e-028,\n",
       "       1.08444011e-027, 1.20943696e-027, 1.28181898e-027, 1.29362389e-027,\n",
       "       1.24534951e-027, 1.14536585e-027, 1.00774018e-027, 8.49196352e-028,\n",
       "       6.86050328e-028, 5.31814974e-028, 3.95850002e-028, 2.83086810e-028,\n",
       "       1.94593834e-028, 1.28620933e-028, 8.17661565e-029, 5.00007509e-029,\n",
       "       2.94129840e-029, 1.66432407e-029, 9.05749963e-030, 4.73963445e-030,\n",
       "       2.38397145e-030, 1.15209773e-030, 5.34663081e-031, 2.38123018e-031,\n",
       "       1.01703615e-031, 4.16219942e-032, 1.63061167e-032, 6.10883777e-033,\n",
       "       2.18591270e-033, 7.46108699e-034, 2.42568529e-034, 7.49949988e-035,\n",
       "       2.20103621e-035, 6.12031242e-036, 1.60894751e-036, 3.98942336e-037,\n",
       "       9.30582313e-038, 2.03629114e-038, 4.16681668e-039, 7.94598842e-040,\n",
       "       1.40673959e-040, 2.30233719e-041, 3.46722189e-042, 4.77962158e-043,\n",
       "       5.99635942e-044, 6.80221280e-045, 6.92666925e-046, 6.27993840e-047,\n",
       "       5.02253054e-048, 3.50637206e-049, 2.11127381e-050, 1.08140923e-051,\n",
       "       4.63733641e-053, 1.63425182e-054, 4.63111472e-056, 1.02844295e-057,\n",
       "       1.73554262e-059, 2.14437976e-061, 1.85363336e-063, 1.05945703e-065,\n",
       "       3.72853868e-068, 7.37175251e-071, 7.25657159e-074, 3.01976262e-077,\n",
       "       4.22345576e-081, 1.41869233e-085, 6.79789263e-091, 1.94111697e-097,\n",
       "       6.43065692e-106, 6.27298145e-118, 1.46045738e-138, 0.00000000e+000])"
      ]
     },
     "execution_count": 27,
     "metadata": {
      "tags": []
     },
     "output_type": "execute_result"
    }
   ],
   "source": [
    "L"
   ]
  },
  {
   "cell_type": "code",
   "execution_count": 0,
   "metadata": {
    "colab": {},
    "colab_type": "code",
    "id": "PAcc3b0tkdF0"
   },
   "outputs": [],
   "source": [
    "#the symbolic representation of the maximum likelihood formula"
   ]
  },
  {
   "cell_type": "code",
   "execution_count": 0,
   "metadata": {
    "colab": {},
    "colab_type": "code",
    "id": "fV5yzcujimot"
   },
   "outputs": [],
   "source": [
    "from sympy import *"
   ]
  },
  {
   "cell_type": "code",
   "execution_count": 0,
   "metadata": {
    "colab": {},
    "colab_type": "code",
    "id": "DkjxVSmUit50"
   },
   "outputs": [],
   "source": [
    "N_heads, N_total, p = symbols('N_heads,N_total,p')"
   ]
  },
  {
   "cell_type": "code",
   "execution_count": 0,
   "metadata": {
    "colab": {},
    "colab_type": "code",
    "id": "RF2HVB5WiuAD"
   },
   "outputs": [],
   "source": [
    "f = p**N_heads*(1-p)**(N_total-N_heads)"
   ]
  },
  {
   "cell_type": "code",
   "execution_count": 0,
   "metadata": {
    "colab": {
     "base_uri": "https://localhost:8080/",
     "height": 34
    },
    "colab_type": "code",
    "executionInfo": {
     "elapsed": 2390,
     "status": "ok",
     "timestamp": 1554684309556,
     "user": {
      "displayName": "Tristan Irons",
      "photoUrl": "",
      "userId": "06363254473347900275"
     },
     "user_tz": 240
    },
    "id": "doANnSU_iuG8",
    "outputId": "5537496c-71b1-4ba0-a528-3410b1e995be"
   },
   "outputs": [
    {
     "data": {
      "text/plain": [
       "p**N_heads*(-p + 1)**(-N_heads + N_total)"
      ]
     },
     "execution_count": 31,
     "metadata": {
      "tags": []
     },
     "output_type": "execute_result"
    }
   ],
   "source": [
    "f"
   ]
  },
  {
   "cell_type": "code",
   "execution_count": 0,
   "metadata": {
    "colab": {},
    "colab_type": "code",
    "id": "E_oJO5r_iuNx"
   },
   "outputs": [],
   "source": [
    "df_dp = diff(f,p)"
   ]
  },
  {
   "cell_type": "code",
   "execution_count": 0,
   "metadata": {
    "colab": {
     "base_uri": "https://localhost:8080/",
     "height": 34
    },
    "colab_type": "code",
    "executionInfo": {
     "elapsed": 2385,
     "status": "ok",
     "timestamp": 1554684309560,
     "user": {
      "displayName": "Tristan Irons",
      "photoUrl": "",
      "userId": "06363254473347900275"
     },
     "user_tz": 240
    },
    "id": "U8kFz28diuUh",
    "outputId": "51131931-5df9-4436-a697-2582f49cd4d4"
   },
   "outputs": [
    {
     "data": {
      "text/plain": [
       "N_heads*p**N_heads*(-p + 1)**(-N_heads + N_total)/p + p**N_heads*(N_heads - N_total)*(-p + 1)**(-N_heads + N_total)/(-p + 1)"
      ]
     },
     "execution_count": 33,
     "metadata": {
      "tags": []
     },
     "output_type": "execute_result"
    }
   ],
   "source": [
    "df_dp"
   ]
  },
  {
   "cell_type": "code",
   "execution_count": 0,
   "metadata": {
    "colab": {
     "base_uri": "https://localhost:8080/",
     "height": 34
    },
    "colab_type": "code",
    "executionInfo": {
     "elapsed": 2929,
     "status": "ok",
     "timestamp": 1554684310113,
     "user": {
      "displayName": "Tristan Irons",
      "photoUrl": "",
      "userId": "06363254473347900275"
     },
     "user_tz": 240
    },
    "id": "sAhIX7eyiuaZ",
    "outputId": "fb940bce-0cad-4d47-80d0-0bab0a105767"
   },
   "outputs": [
    {
     "data": {
      "text/plain": [
       "[N_heads/N_total]"
      ]
     },
     "execution_count": 34,
     "metadata": {
      "tags": []
     },
     "output_type": "execute_result"
    }
   ],
   "source": [
    "solve(df_dp,p)"
   ]
  },
  {
   "cell_type": "code",
   "execution_count": 0,
   "metadata": {
    "colab": {},
    "colab_type": "code",
    "id": "h_DlNrfjiugs"
   },
   "outputs": [],
   "source": []
  },
  {
   "cell_type": "code",
   "execution_count": 0,
   "metadata": {
    "colab": {},
    "colab_type": "code",
    "id": "uqzEUVbJium5"
   },
   "outputs": [],
   "source": []
  },
  {
   "cell_type": "code",
   "execution_count": 0,
   "metadata": {
    "colab": {},
    "colab_type": "code",
    "id": "8_1_vM8bI5Vu"
   },
   "outputs": [],
   "source": [
    "import numpy as np"
   ]
  },
  {
   "cell_type": "code",
   "execution_count": 0,
   "metadata": {
    "colab": {},
    "colab_type": "code",
    "id": "SyfTGPY7I5X7"
   },
   "outputs": [],
   "source": [
    "mu = 2.1\n",
    "sigma = 0.12"
   ]
  },
  {
   "cell_type": "code",
   "execution_count": 0,
   "metadata": {
    "colab": {},
    "colab_type": "code",
    "id": "GwmTMYTPI5ak"
   },
   "outputs": [],
   "source": [
    "x = sigma * np.random.randn(1,10) + mu #follows mx+b for each point"
   ]
  },
  {
   "cell_type": "code",
   "execution_count": 0,
   "metadata": {
    "colab": {
     "base_uri": "https://localhost:8080/",
     "height": 34
    },
    "colab_type": "code",
    "executionInfo": {
     "elapsed": 2933,
     "status": "ok",
     "timestamp": 1554684310139,
     "user": {
      "displayName": "Tristan Irons",
      "photoUrl": "",
      "userId": "06363254473347900275"
     },
     "user_tz": 240
    },
    "id": "6fObirveYUl8",
    "outputId": "2777396a-4a3e-490f-92de-c009d45b8062"
   },
   "outputs": [
    {
     "data": {
      "text/plain": [
       "array([0.62692432])"
      ]
     },
     "execution_count": 38,
     "metadata": {
      "tags": []
     },
     "output_type": "execute_result"
    }
   ],
   "source": [
    "np.random.random(1)"
   ]
  },
  {
   "cell_type": "code",
   "execution_count": 0,
   "metadata": {
    "colab": {
     "base_uri": "https://localhost:8080/",
     "height": 347
    },
    "colab_type": "code",
    "executionInfo": {
     "elapsed": 3123,
     "status": "ok",
     "timestamp": 1554684310342,
     "user": {
      "displayName": "Tristan Irons",
      "photoUrl": "",
      "userId": "06363254473347900275"
     },
     "user_tz": 240
    },
    "id": "BnVV9vQuI5kK",
    "outputId": "0aaaf68d-03ea-498b-d149-5e000c4a34a4"
   },
   "outputs": [
    {
     "data": {
      "image/png": "[encoded data removed]",
      "text/plain": [
       "<Figure size 576x396 with 1 Axes>"
      ]
     },
     "metadata": {
      "tags": []
     },
     "output_type": "display_data"
    }
   ],
   "source": [
    "plt.hist(np.random.randn(10000,),50); #demonstrates the normal curve and also proves the maximum likelihood function"
   ]
  },
  {
   "cell_type": "code",
   "execution_count": 0,
   "metadata": {
    "colab": {},
    "colab_type": "code",
    "id": "pNmQfHuuYZzI"
   },
   "outputs": [],
   "source": [
    "x = sigma * np.random.randn(1,10) + mu"
   ]
  },
  {
   "cell_type": "code",
   "execution_count": 0,
   "metadata": {
    "colab": {},
    "colab_type": "code",
    "id": "Gj8AUVaPlWGI"
   },
   "outputs": [],
   "source": [
    "x = sigma * np.random.randn(1000,1) + mu"
   ]
  },
  {
   "cell_type": "code",
   "execution_count": 0,
   "metadata": {
    "colab": {
     "base_uri": "https://localhost:8080/",
     "height": 347
    },
    "colab_type": "code",
    "executionInfo": {
     "elapsed": 3297,
     "status": "ok",
     "timestamp": 1554684310526,
     "user": {
      "displayName": "Tristan Irons",
      "photoUrl": "",
      "userId": "06363254473347900275"
     },
     "user_tz": 240
    },
    "id": "c57QzB30lK1J",
    "outputId": "21db181a-3a01-4141-e73e-b755a5e93d19"
   },
   "outputs": [
    {
     "data": {
      "image/png": "[encoded data removed]",
      "text/plain": [
       "<Figure size 576x396 with 1 Axes>"
      ]
     },
     "metadata": {
      "tags": []
     },
     "output_type": "display_data"
    }
   ],
   "source": [
    "plt.hist(x,50);"
   ]
  },
  {
   "cell_type": "code",
   "execution_count": 0,
   "metadata": {
    "colab": {},
    "colab_type": "code",
    "id": "wJeNBtZ7lKe8"
   },
   "outputs": [],
   "source": []
  },
  {
   "cell_type": "code",
   "execution_count": 0,
   "metadata": {
    "colab": {},
    "colab_type": "code",
    "id": "KOw_nyqXlKbI"
   },
   "outputs": [],
   "source": []
  },
  {
   "cell_type": "code",
   "execution_count": 0,
   "metadata": {
    "colab": {
     "base_uri": "https://localhost:8080/",
     "height": 17017
    },
    "colab_type": "code",
    "executionInfo": {
     "elapsed": 3482,
     "status": "ok",
     "timestamp": 1554684310724,
     "user": {
      "displayName": "Tristan Irons",
      "photoUrl": "",
      "userId": "06363254473347900275"
     },
     "user_tz": 240
    },
    "id": "MRcScnYeYZv8",
    "outputId": "5a4eb9ed-37b5-47eb-c0a4-172f80899e6c"
   },
   "outputs": [
    {
     "data": {
      "text/plain": [
       "array([[2.06685475],\n",
       "       [1.81390802],\n",
       "       [2.31810779],\n",
       "       [2.17342273],\n",
       "       [2.12584949],\n",
       "       [2.19490566],\n",
       "       [2.26468229],\n",
       "       [2.19171028],\n",
       "       [2.08141936],\n",
       "       [2.1333973 ],\n",
       "       [2.11643485],\n",
       "       [1.99170918],\n",
       "       [1.93998128],\n",
       "       [2.16991389],\n",
       "       [2.21206076],\n",
       "       [2.00577596],\n",
       "       [2.25319232],\n",
       "       [2.11200648],\n",
       "       [1.91577177],\n",
       "       [2.19305921],\n",
       "       [1.88463519],\n",
       "       [2.26713262],\n",
       "       [2.05838411],\n",
       "       [1.94200784],\n",
       "       [2.19344005],\n",
       "       [1.8573774 ],\n",
       "       [2.16821863],\n",
       "       [2.23944842],\n",
       "       [1.88607512],\n",
       "       [1.96784607],\n",
       "       [2.17942375],\n",
       "       [2.27166169],\n",
       "       [2.3497815 ],\n",
       "       [2.0892895 ],\n",
       "       [2.31610199],\n",
       "       [2.29154415],\n",
       "       [1.91837962],\n",
       "       [1.77412449],\n",
       "       [2.17677456],\n",
       "       [2.3235171 ],\n",
       "       [2.03354734],\n",
       "       [1.92377108],\n",
       "       [2.27859674],\n",
       "       [2.09309044],\n",
       "       [2.07193233],\n",
       "       [2.07221959],\n",
       "       [2.25835603],\n",
       "       [2.06560394],\n",
       "       [2.19544416],\n",
       "       [2.20791498],\n",
       "       [2.14424628],\n",
       "       [1.9786931 ],\n",
       "       [2.19149751],\n",
       "       [2.02739117],\n",
       "       [2.07314428],\n",
       "       [2.06952293],\n",
       "       [2.19083726],\n",
       "       [2.05560549],\n",
       "       [2.10424278],\n",
       "       [2.00299266],\n",
       "       [2.02674208],\n",
       "       [2.16199625],\n",
       "       [2.15309594],\n",
       "       [2.19736195],\n",
       "       [2.16400564],\n",
       "       [2.16408321],\n",
       "       [2.08365157],\n",
       "       [2.1599499 ],\n",
       "       [2.05293688],\n",
       "       [1.93341125],\n",
       "       [2.15469612],\n",
       "       [1.91915973],\n",
       "       [1.88379775],\n",
       "       [2.07313185],\n",
       "       [2.15040402],\n",
       "       [1.89673783],\n",
       "       [2.13035169],\n",
       "       [2.21589488],\n",
       "       [1.98913131],\n",
       "       [2.00991705],\n",
       "       [2.05759562],\n",
       "       [1.99027609],\n",
       "       [2.19331958],\n",
       "       [2.16717387],\n",
       "       [1.96725591],\n",
       "       [1.98866287],\n",
       "       [1.9006059 ],\n",
       "       [1.98420654],\n",
       "       [2.25067924],\n",
       "       [1.98535412],\n",
       "       [1.9061676 ],\n",
       "       [2.03396138],\n",
       "       [2.10850697],\n",
       "       [2.2203154 ],\n",
       "       [1.87717236],\n",
       "       [2.25598364],\n",
       "       [2.223821  ],\n",
       "       [2.21002948],\n",
       "       [2.0888746 ],\n",
       "       [2.21048047],\n",
       "       [2.04187809],\n",
       "       [2.00526043],\n",
       "       [2.39268396],\n",
       "       [2.15293203],\n",
       "       [1.94739815],\n",
       "       [2.09756529],\n",
       "       [2.1275176 ],\n",
       "       [1.98673153],\n",
       "       [2.12748657],\n",
       "       [2.13859106],\n",
       "       [1.92687741],\n",
       "       [2.49801767],\n",
       "       [2.17399161],\n",
       "       [2.0163455 ],\n",
       "       [2.08317063],\n",
       "       [1.9544432 ],\n",
       "       [1.9693243 ],\n",
       "       [2.25417904],\n",
       "       [2.09905561],\n",
       "       [2.08972875],\n",
       "       [2.30772735],\n",
       "       [2.05245764],\n",
       "       [1.97112785],\n",
       "       [2.30517964],\n",
       "       [1.92223261],\n",
       "       [2.33640923],\n",
       "       [1.96296693],\n",
       "       [2.17847506],\n",
       "       [1.91773483],\n",
       "       [2.00417823],\n",
       "       [2.02087478],\n",
       "       [2.11507381],\n",
       "       [2.23544865],\n",
       "       [2.00182133],\n",
       "       [1.98753494],\n",
       "       [2.15251517],\n",
       "       [2.05426755],\n",
       "       [2.05860313],\n",
       "       [2.10802003],\n",
       "       [2.00586173],\n",
       "       [2.19388503],\n",
       "       [1.96251916],\n",
       "       [2.0808349 ],\n",
       "       [2.00883838],\n",
       "       [2.26799234],\n",
       "       [2.33918674],\n",
       "       [2.14515259],\n",
       "       [2.13213402],\n",
       "       [2.1166617 ],\n",
       "       [2.1154757 ],\n",
       "       [1.9489489 ],\n",
       "       [2.23730559],\n",
       "       [2.21997275],\n",
       "       [2.02465232],\n",
       "       [2.1333076 ],\n",
       "       [2.06600712],\n",
       "       [2.04964263],\n",
       "       [2.22047226],\n",
       "       [2.1774106 ],\n",
       "       [2.21939663],\n",
       "       [2.02550359],\n",
       "       [2.02735744],\n",
       "       [2.18201036],\n",
       "       [2.12645757],\n",
       "       [2.02830853],\n",
       "       [2.19864315],\n",
       "       [2.19720294],\n",
       "       [1.88698694],\n",
       "       [2.20187529],\n",
       "       [2.05317182],\n",
       "       [2.02026733],\n",
       "       [2.12361332],\n",
       "       [1.87109206],\n",
       "       [2.17719231],\n",
       "       [2.21096214],\n",
       "       [2.21510144],\n",
       "       [1.97012036],\n",
       "       [2.16052476],\n",
       "       [1.84142124],\n",
       "       [2.20456671],\n",
       "       [2.24036725],\n",
       "       [1.90627733],\n",
       "       [2.31892642],\n",
       "       [2.26391082],\n",
       "       [2.16794906],\n",
       "       [2.19673582],\n",
       "       [2.12605907],\n",
       "       [2.22331094],\n",
       "       [1.82266133],\n",
       "       [2.15473635],\n",
       "       [2.21193877],\n",
       "       [2.05682701],\n",
       "       [2.03020103],\n",
       "       [2.22545373],\n",
       "       [2.17246337],\n",
       "       [2.02797088],\n",
       "       [1.93971211],\n",
       "       [2.12300105],\n",
       "       [2.10647709],\n",
       "       [2.07836588],\n",
       "       [2.13517772],\n",
       "       [1.8177164 ],\n",
       "       [2.22348536],\n",
       "       [2.21864678],\n",
       "       [2.33570309],\n",
       "       [2.11997307],\n",
       "       [2.12547092],\n",
       "       [2.06857151],\n",
       "       [2.03527858],\n",
       "       [2.09626178],\n",
       "       [2.09747024],\n",
       "       [1.94863328],\n",
       "       [2.23550094],\n",
       "       [2.0498684 ],\n",
       "       [2.06928464],\n",
       "       [2.26274406],\n",
       "       [2.04898804],\n",
       "       [2.10588642],\n",
       "       [2.09021734],\n",
       "       [1.98128699],\n",
       "       [2.12250107],\n",
       "       [2.20129956],\n",
       "       [2.09137905],\n",
       "       [2.26821184],\n",
       "       [2.37941714],\n",
       "       [2.00947168],\n",
       "       [1.88738024],\n",
       "       [1.90268358],\n",
       "       [2.22266873],\n",
       "       [2.27618536],\n",
       "       [2.3402416 ],\n",
       "       [2.02268757],\n",
       "       [2.2099784 ],\n",
       "       [2.10309914],\n",
       "       [1.94197999],\n",
       "       [2.19562916],\n",
       "       [1.98811745],\n",
       "       [1.99858586],\n",
       "       [2.03948585],\n",
       "       [2.02266921],\n",
       "       [2.19083884],\n",
       "       [2.23548523],\n",
       "       [2.05628169],\n",
       "       [2.07062148],\n",
       "       [2.32276411],\n",
       "       [2.12881417],\n",
       "       [1.97067475],\n",
       "       [1.93242625],\n",
       "       [2.0547178 ],\n",
       "       [1.97891881],\n",
       "       [2.23156326],\n",
       "       [2.26494026],\n",
       "       [2.16448006],\n",
       "       [2.14592729],\n",
       "       [2.25463947],\n",
       "       [2.22182937],\n",
       "       [2.1271648 ],\n",
       "       [2.06835461],\n",
       "       [1.86628428],\n",
       "       [2.00190391],\n",
       "       [1.96113039],\n",
       "       [2.1625047 ],\n",
       "       [2.12835552],\n",
       "       [1.94076627],\n",
       "       [2.16224787],\n",
       "       [2.03195966],\n",
       "       [2.30477498],\n",
       "       [2.26502297],\n",
       "       [1.85556359],\n",
       "       [2.05366348],\n",
       "       [2.02302777],\n",
       "       [2.1436233 ],\n",
       "       [2.06803273],\n",
       "       [2.12080155],\n",
       "       [2.06172736],\n",
       "       [2.02654056],\n",
       "       [2.13896157],\n",
       "       [2.08070561],\n",
       "       [1.940267  ],\n",
       "       [1.93083157],\n",
       "       [1.98745982],\n",
       "       [1.96590401],\n",
       "       [2.06823222],\n",
       "       [2.00504152],\n",
       "       [2.07602589],\n",
       "       [1.9768243 ],\n",
       "       [2.10522782],\n",
       "       [2.10144959],\n",
       "       [1.94607957],\n",
       "       [2.00570971],\n",
       "       [1.96725115],\n",
       "       [2.09147261],\n",
       "       [2.18337913],\n",
       "       [2.10615698],\n",
       "       [2.15604267],\n",
       "       [2.20425509],\n",
       "       [2.24378359],\n",
       "       [2.17376081],\n",
       "       [2.22753459],\n",
       "       [2.02569811],\n",
       "       [2.01367996],\n",
       "       [2.08598083],\n",
       "       [2.07295477],\n",
       "       [2.16203692],\n",
       "       [2.04238448],\n",
       "       [2.23469748],\n",
       "       [2.09606114],\n",
       "       [2.20234004],\n",
       "       [2.17234216],\n",
       "       [2.02975222],\n",
       "       [2.13289076],\n",
       "       [2.09280352],\n",
       "       [2.16842143],\n",
       "       [2.24722127],\n",
       "       [2.04579319],\n",
       "       [1.96720774],\n",
       "       [2.09294744],\n",
       "       [2.26234757],\n",
       "       [2.23325537],\n",
       "       [1.93802087],\n",
       "       [1.94582897],\n",
       "       [2.08633811],\n",
       "       [1.99169995],\n",
       "       [2.19520968],\n",
       "       [2.17372595],\n",
       "       [2.02052873],\n",
       "       [1.89019574],\n",
       "       [2.08469011],\n",
       "       [2.24025847],\n",
       "       [2.00872521],\n",
       "       [1.9348996 ],\n",
       "       [1.99337564],\n",
       "       [2.13842119],\n",
       "       [1.96693322],\n",
       "       [2.03752573],\n",
       "       [2.19949457],\n",
       "       [1.8540645 ],\n",
       "       [1.97334141],\n",
       "       [2.09094358],\n",
       "       [2.05243301],\n",
       "       [2.09897271],\n",
       "       [2.18497396],\n",
       "       [2.10824457],\n",
       "       [2.02236033],\n",
       "       [1.87409759],\n",
       "       [2.03985448],\n",
       "       [1.93824508],\n",
       "       [2.05050092],\n",
       "       [2.20892069],\n",
       "       [2.11224439],\n",
       "       [2.15976258],\n",
       "       [2.06833868],\n",
       "       [1.88252865],\n",
       "       [1.90169351],\n",
       "       [2.29584884],\n",
       "       [1.95173625],\n",
       "       [2.24015962],\n",
       "       [2.09525657],\n",
       "       [1.78940817],\n",
       "       [2.12457966],\n",
       "       [2.32964601],\n",
       "       [2.04945341],\n",
       "       [2.07316584],\n",
       "       [2.26623125],\n",
       "       [2.22802492],\n",
       "       [1.96420405],\n",
       "       [2.03799488],\n",
       "       [2.08233998],\n",
       "       [1.95706022],\n",
       "       [2.05950863],\n",
       "       [1.9049686 ],\n",
       "       [2.3942698 ],\n",
       "       [2.14968138],\n",
       "       [2.21443648],\n",
       "       [1.99078205],\n",
       "       [1.89483133],\n",
       "       [2.06279731],\n",
       "       [1.96969841],\n",
       "       [2.11700386],\n",
       "       [2.08684568],\n",
       "       [2.24807848],\n",
       "       [2.08006956],\n",
       "       [2.09605794],\n",
       "       [2.09550728],\n",
       "       [2.15228103],\n",
       "       [2.10934719],\n",
       "       [2.20633118],\n",
       "       [2.05033005],\n",
       "       [2.06063339],\n",
       "       [1.86551453],\n",
       "       [2.24746363],\n",
       "       [2.33349535],\n",
       "       [2.08421375],\n",
       "       [1.92652876],\n",
       "       [2.01463703],\n",
       "       [2.23035235],\n",
       "       [2.21261201],\n",
       "       [2.30222029],\n",
       "       [2.08141084],\n",
       "       [2.16959936],\n",
       "       [2.16608778],\n",
       "       [2.31847881],\n",
       "       [2.06109657],\n",
       "       [1.91011524],\n",
       "       [2.14628973],\n",
       "       [2.02386173],\n",
       "       [1.96937253],\n",
       "       [2.11684862],\n",
       "       [2.2260349 ],\n",
       "       [2.12252472],\n",
       "       [2.07548828],\n",
       "       [2.18625621],\n",
       "       [2.06717239],\n",
       "       [1.96199112],\n",
       "       [2.16736488],\n",
       "       [2.05570422],\n",
       "       [2.18197472],\n",
       "       [1.99365786],\n",
       "       [2.04533183],\n",
       "       [2.05585632],\n",
       "       [2.06290469],\n",
       "       [2.10651492],\n",
       "       [2.10418818],\n",
       "       [2.05852054],\n",
       "       [1.94354743],\n",
       "       [1.86515784],\n",
       "       [2.27789031],\n",
       "       [2.16283699],\n",
       "       [2.02735735],\n",
       "       [2.09454129],\n",
       "       [2.15446995],\n",
       "       [2.11169858],\n",
       "       [2.0238011 ],\n",
       "       [2.09456997],\n",
       "       [2.12563594],\n",
       "       [2.05341457],\n",
       "       [1.97564085],\n",
       "       [1.73234324],\n",
       "       [2.2966204 ],\n",
       "       [1.79353232],\n",
       "       [1.93404024],\n",
       "       [2.02618644],\n",
       "       [2.07398672],\n",
       "       [1.97199306],\n",
       "       [2.10864346],\n",
       "       [2.05219594],\n",
       "       [2.05259897],\n",
       "       [2.07606541],\n",
       "       [2.01619337],\n",
       "       [2.04612295],\n",
       "       [1.95054407],\n",
       "       [2.07086131],\n",
       "       [2.19587218],\n",
       "       [1.98507223],\n",
       "       [2.22697914],\n",
       "       [2.2802287 ],\n",
       "       [2.30123354],\n",
       "       [1.90130439],\n",
       "       [2.20988345],\n",
       "       [1.99456598],\n",
       "       [2.08591081],\n",
       "       [2.14668771],\n",
       "       [1.93617437],\n",
       "       [2.15374806],\n",
       "       [2.18757523],\n",
       "       [2.22819916],\n",
       "       [1.87709136],\n",
       "       [2.08782392],\n",
       "       [2.30560814],\n",
       "       [2.02004125],\n",
       "       [2.01041528],\n",
       "       [2.13494822],\n",
       "       [2.04925443],\n",
       "       [2.24727058],\n",
       "       [2.16653757],\n",
       "       [2.06918966],\n",
       "       [2.00937246],\n",
       "       [1.96796468],\n",
       "       [2.21908822],\n",
       "       [2.47674177],\n",
       "       [1.97675328],\n",
       "       [1.94857987],\n",
       "       [2.31403206],\n",
       "       [1.97849418],\n",
       "       [2.21234696],\n",
       "       [2.05370566],\n",
       "       [2.12181368],\n",
       "       [2.21402259],\n",
       "       [2.12918846],\n",
       "       [2.24507158],\n",
       "       [2.16673432],\n",
       "       [2.2852832 ],\n",
       "       [2.15140742],\n",
       "       [2.07267306],\n",
       "       [2.30441092],\n",
       "       [2.33225387],\n",
       "       [2.1813221 ],\n",
       "       [2.0531461 ],\n",
       "       [1.9407031 ],\n",
       "       [1.81671758],\n",
       "       [2.18937431],\n",
       "       [2.08526568],\n",
       "       [1.99518318],\n",
       "       [2.05495993],\n",
       "       [2.18627911],\n",
       "       [2.03139057],\n",
       "       [2.08541407],\n",
       "       [2.16371451],\n",
       "       [1.94373973],\n",
       "       [1.9599917 ],\n",
       "       [2.10598656],\n",
       "       [2.10670161],\n",
       "       [2.20374312],\n",
       "       [2.1479496 ],\n",
       "       [2.10382249],\n",
       "       [1.8857241 ],\n",
       "       [1.88646487],\n",
       "       [2.1069343 ],\n",
       "       [2.07000577],\n",
       "       [2.1274314 ],\n",
       "       [2.15014498],\n",
       "       [2.07165594],\n",
       "       [2.24718382],\n",
       "       [2.12170445],\n",
       "       [2.31049256],\n",
       "       [1.93482823],\n",
       "       [2.13666641],\n",
       "       [2.06460908],\n",
       "       [2.20403929],\n",
       "       [2.16858739],\n",
       "       [2.15494449],\n",
       "       [2.08898473],\n",
       "       [2.22573341],\n",
       "       [2.28647317],\n",
       "       [1.93983245],\n",
       "       [2.10168811],\n",
       "       [2.29929111],\n",
       "       [1.83307069],\n",
       "       [2.04141476],\n",
       "       [2.00508452],\n",
       "       [2.05055125],\n",
       "       [2.24457246],\n",
       "       [1.80569453],\n",
       "       [2.01562205],\n",
       "       [2.01504776],\n",
       "       [2.15855581],\n",
       "       [2.17983163],\n",
       "       [2.02570524],\n",
       "       [2.11626858],\n",
       "       [2.06173114],\n",
       "       [2.10859558],\n",
       "       [2.09198799],\n",
       "       [2.18127738],\n",
       "       [1.97427871],\n",
       "       [2.01315293],\n",
       "       [2.20690627],\n",
       "       [2.05331056],\n",
       "       [2.055664  ],\n",
       "       [2.12270644],\n",
       "       [2.04878063],\n",
       "       [2.14607312],\n",
       "       [2.08769985],\n",
       "       [2.0949881 ],\n",
       "       [1.85893222],\n",
       "       [2.24516016],\n",
       "       [2.00115167],\n",
       "       [2.16704654],\n",
       "       [2.02474217],\n",
       "       [2.36870857],\n",
       "       [2.12195004],\n",
       "       [2.03769918],\n",
       "       [2.19721654],\n",
       "       [1.97416244],\n",
       "       [1.97285461],\n",
       "       [2.1214597 ],\n",
       "       [2.30499901],\n",
       "       [2.04164586],\n",
       "       [1.92933482],\n",
       "       [1.98208297],\n",
       "       [2.15302131],\n",
       "       [2.17252357],\n",
       "       [2.01551379],\n",
       "       [2.14522815],\n",
       "       [2.25846047],\n",
       "       [2.10083359],\n",
       "       [1.76691982],\n",
       "       [1.85674321],\n",
       "       [1.93658877],\n",
       "       [2.03071589],\n",
       "       [2.1139108 ],\n",
       "       [2.18944199],\n",
       "       [2.0805019 ],\n",
       "       [2.14032781],\n",
       "       [2.10384606],\n",
       "       [2.01509272],\n",
       "       [2.02844693],\n",
       "       [1.99672021],\n",
       "       [2.10784023],\n",
       "       [2.02900741],\n",
       "       [1.97487638],\n",
       "       [1.9413389 ],\n",
       "       [2.18881561],\n",
       "       [2.22717444],\n",
       "       [2.23853186],\n",
       "       [2.20243636],\n",
       "       [2.07933969],\n",
       "       [2.33238748],\n",
       "       [2.16126755],\n",
       "       [2.10232322],\n",
       "       [2.27128991],\n",
       "       [1.98865163],\n",
       "       [2.02670264],\n",
       "       [1.92508857],\n",
       "       [2.01464843],\n",
       "       [2.0231763 ],\n",
       "       [2.0869    ],\n",
       "       [2.02345306],\n",
       "       [2.11757287],\n",
       "       [2.40111167],\n",
       "       [2.09628962],\n",
       "       [2.11110291],\n",
       "       [2.24726399],\n",
       "       [2.0113867 ],\n",
       "       [2.1983956 ],\n",
       "       [2.07261531],\n",
       "       [2.18492554],\n",
       "       [2.08325284],\n",
       "       [2.10418714],\n",
       "       [2.28985317],\n",
       "       [2.21507706],\n",
       "       [2.1213812 ],\n",
       "       [2.18265222],\n",
       "       [2.12684268],\n",
       "       [2.18523434],\n",
       "       [2.36671666],\n",
       "       [2.05894365],\n",
       "       [1.97979086],\n",
       "       [2.06157382],\n",
       "       [2.10955778],\n",
       "       [2.17016697],\n",
       "       [2.01487212],\n",
       "       [2.16922527],\n",
       "       [2.12217307],\n",
       "       [1.91979239],\n",
       "       [2.1562103 ],\n",
       "       [1.93736178],\n",
       "       [2.14033855],\n",
       "       [2.06986454],\n",
       "       [2.13527998],\n",
       "       [2.10521235],\n",
       "       [2.18870165],\n",
       "       [2.11672036],\n",
       "       [2.09906567],\n",
       "       [1.82319022],\n",
       "       [2.24445536],\n",
       "       [2.16415651],\n",
       "       [2.24786287],\n",
       "       [1.90253265],\n",
       "       [2.14353483],\n",
       "       [2.11870962],\n",
       "       [2.19186144],\n",
       "       [2.18072219],\n",
       "       [1.90123404],\n",
       "       [1.86541227],\n",
       "       [2.31354621],\n",
       "       [2.29385389],\n",
       "       [2.15463989],\n",
       "       [1.8731619 ],\n",
       "       [2.1513847 ],\n",
       "       [2.01985372],\n",
       "       [1.96693462],\n",
       "       [2.25195482],\n",
       "       [2.06749569],\n",
       "       [2.11484208],\n",
       "       [2.10899706],\n",
       "       [2.05759741],\n",
       "       [1.84323164],\n",
       "       [2.16262399],\n",
       "       [2.27756178],\n",
       "       [2.10769192],\n",
       "       [1.94014103],\n",
       "       [2.00958062],\n",
       "       [1.97663666],\n",
       "       [2.17820623],\n",
       "       [2.23069061],\n",
       "       [2.18374986],\n",
       "       [2.04748918],\n",
       "       [2.0619193 ],\n",
       "       [2.22999587],\n",
       "       [2.30222636],\n",
       "       [2.27817161],\n",
       "       [2.01927116],\n",
       "       [2.24203997],\n",
       "       [2.12413774],\n",
       "       [2.01399536],\n",
       "       [2.09570221],\n",
       "       [2.12504899],\n",
       "       [2.09932392],\n",
       "       [2.41782195],\n",
       "       [2.11775083],\n",
       "       [1.93457276],\n",
       "       [2.3455057 ],\n",
       "       [1.94152099],\n",
       "       [1.77605199],\n",
       "       [2.27944887],\n",
       "       [2.16622016],\n",
       "       [1.93399337],\n",
       "       [1.88080203],\n",
       "       [1.93214454],\n",
       "       [1.97079133],\n",
       "       [2.05886305],\n",
       "       [2.12431129],\n",
       "       [2.12355692],\n",
       "       [2.18296362],\n",
       "       [2.09438216],\n",
       "       [2.20596791],\n",
       "       [2.014826  ],\n",
       "       [2.1725357 ],\n",
       "       [2.04842681],\n",
       "       [2.16591738],\n",
       "       [2.17945099],\n",
       "       [2.20844963],\n",
       "       [1.97984249],\n",
       "       [1.98389784],\n",
       "       [2.03057282],\n",
       "       [1.99731445],\n",
       "       [1.97443278],\n",
       "       [2.22275691],\n",
       "       [2.03918136],\n",
       "       [2.06902134],\n",
       "       [2.20417056],\n",
       "       [1.98084428],\n",
       "       [2.12673307],\n",
       "       [2.11197176],\n",
       "       [1.92337745],\n",
       "       [2.11828017],\n",
       "       [2.05855037],\n",
       "       [2.22548305],\n",
       "       [2.23602909],\n",
       "       [2.18135643],\n",
       "       [1.99141979],\n",
       "       [2.19482192],\n",
       "       [2.07569464],\n",
       "       [1.79574857],\n",
       "       [1.93758908],\n",
       "       [2.27446404],\n",
       "       [2.11078817],\n",
       "       [1.95072314],\n",
       "       [2.14584367],\n",
       "       [2.01846363],\n",
       "       [2.14566222],\n",
       "       [2.07153026],\n",
       "       [2.26984385],\n",
       "       [2.05193495],\n",
       "       [2.111677  ],\n",
       "       [2.04176536],\n",
       "       [2.18947794],\n",
       "       [2.10345149],\n",
       "       [2.15825612],\n",
       "       [2.27846637],\n",
       "       [1.99066082],\n",
       "       [2.28287466],\n",
       "       [2.06842843],\n",
       "       [1.83610624],\n",
       "       [2.16064601],\n",
       "       [2.05877332],\n",
       "       [2.21052743],\n",
       "       [2.03181057],\n",
       "       [2.06731083],\n",
       "       [1.87772854],\n",
       "       [2.24758414],\n",
       "       [2.03482969],\n",
       "       [2.18270949],\n",
       "       [2.20060619],\n",
       "       [2.21170043],\n",
       "       [2.04194058],\n",
       "       [2.11815028],\n",
       "       [2.05235141],\n",
       "       [2.11598525],\n",
       "       [2.15211973],\n",
       "       [2.04981475],\n",
       "       [2.05019754],\n",
       "       [2.15034373],\n",
       "       [2.16564   ],\n",
       "       [2.03039497],\n",
       "       [2.00777306],\n",
       "       [2.20168416],\n",
       "       [2.03659021],\n",
       "       [1.95210855],\n",
       "       [2.06210836],\n",
       "       [1.99333481],\n",
       "       [2.02919583],\n",
       "       [2.18412766],\n",
       "       [2.10694653],\n",
       "       [2.10854516],\n",
       "       [2.33041871],\n",
       "       [2.10594779],\n",
       "       [2.15712427],\n",
       "       [2.34021765],\n",
       "       [2.0967218 ],\n",
       "       [2.31653698],\n",
       "       [2.05181555],\n",
       "       [2.24675627],\n",
       "       [2.26463388],\n",
       "       [2.03315751],\n",
       "       [2.02481142],\n",
       "       [2.03890416],\n",
       "       [2.23864932],\n",
       "       [2.19464609],\n",
       "       [2.25502326],\n",
       "       [2.23000838],\n",
       "       [2.09067193],\n",
       "       [2.25414866],\n",
       "       [2.10807886],\n",
       "       [2.33303439],\n",
       "       [2.03664491],\n",
       "       [1.8709613 ],\n",
       "       [2.14035006],\n",
       "       [2.11018105],\n",
       "       [2.11330252],\n",
       "       [2.21956574],\n",
       "       [2.0697035 ],\n",
       "       [2.0393856 ],\n",
       "       [2.09809029],\n",
       "       [2.10015466],\n",
       "       [2.0257366 ],\n",
       "       [2.22718999],\n",
       "       [2.26674553],\n",
       "       [1.94891674],\n",
       "       [2.1059159 ],\n",
       "       [2.06412148],\n",
       "       [1.91493971],\n",
       "       [1.87756779],\n",
       "       [2.06946583],\n",
       "       [2.10683974],\n",
       "       [1.99452602],\n",
       "       [2.16202671],\n",
       "       [1.84880753],\n",
       "       [2.24443067],\n",
       "       [1.97306518],\n",
       "       [2.13314811],\n",
       "       [2.08781184],\n",
       "       [2.26355744],\n",
       "       [2.09779182],\n",
       "       [1.96193131],\n",
       "       [2.20091134],\n",
       "       [2.04357742],\n",
       "       [2.15051654],\n",
       "       [2.11273153],\n",
       "       [2.14111638],\n",
       "       [1.97446034],\n",
       "       [2.32305803],\n",
       "       [2.0505491 ],\n",
       "       [1.96599257],\n",
       "       [2.21583022],\n",
       "       [1.81732353],\n",
       "       [2.20855983],\n",
       "       [2.25113505],\n",
       "       [2.02976663],\n",
       "       [1.97777673],\n",
       "       [2.13497096],\n",
       "       [2.07604595],\n",
       "       [2.14679841],\n",
       "       [2.20729523],\n",
       "       [1.98009422],\n",
       "       [2.08023948],\n",
       "       [2.51286635],\n",
       "       [2.17235732],\n",
       "       [2.13674022],\n",
       "       [1.93328224],\n",
       "       [2.27803568],\n",
       "       [2.14738926],\n",
       "       [2.00881908],\n",
       "       [2.10997471],\n",
       "       [2.07555257],\n",
       "       [1.91261558],\n",
       "       [2.2216809 ],\n",
       "       [2.00500325],\n",
       "       [2.13093045],\n",
       "       [2.24164422],\n",
       "       [2.27315042],\n",
       "       [2.1996608 ],\n",
       "       [1.81532318],\n",
       "       [2.07922291],\n",
       "       [2.09072107],\n",
       "       [2.27523784],\n",
       "       [1.88823583],\n",
       "       [2.19638786],\n",
       "       [2.29954202],\n",
       "       [1.93337706],\n",
       "       [1.97819266],\n",
       "       [2.11522523],\n",
       "       [2.19287277],\n",
       "       [2.22616794],\n",
       "       [2.16823007],\n",
       "       [1.94071121],\n",
       "       [2.04812204],\n",
       "       [2.00760447],\n",
       "       [1.86500482],\n",
       "       [1.97048544],\n",
       "       [2.21739157],\n",
       "       [2.03940739],\n",
       "       [2.14610698],\n",
       "       [2.12261753],\n",
       "       [2.09765853],\n",
       "       [1.83910377],\n",
       "       [2.34371749],\n",
       "       [2.0497198 ],\n",
       "       [2.38118174],\n",
       "       [2.18073265],\n",
       "       [2.09078152],\n",
       "       [2.09363983],\n",
       "       [2.13570187],\n",
       "       [2.15080575],\n",
       "       [2.17381212],\n",
       "       [2.14248036],\n",
       "       [1.95502392],\n",
       "       [2.06094099],\n",
       "       [2.09540936],\n",
       "       [2.26803922],\n",
       "       [2.05537933],\n",
       "       [2.14595769],\n",
       "       [1.98752321],\n",
       "       [1.99427504],\n",
       "       [1.87329103],\n",
       "       [2.01600594],\n",
       "       [2.08065209],\n",
       "       [2.32172282],\n",
       "       [2.00720141],\n",
       "       [1.91916717],\n",
       "       [2.21791002],\n",
       "       [2.14045715],\n",
       "       [2.11747602],\n",
       "       [2.04134271],\n",
       "       [1.92075442],\n",
       "       [1.88757698],\n",
       "       [2.03358484],\n",
       "       [2.12710028],\n",
       "       [2.18323802],\n",
       "       [2.1533083 ],\n",
       "       [2.25105053],\n",
       "       [2.21155017],\n",
       "       [2.16413857],\n",
       "       [2.18347906],\n",
       "       [2.23166715],\n",
       "       [2.04018211],\n",
       "       [2.0850005 ],\n",
       "       [2.02741497],\n",
       "       [2.19298445],\n",
       "       [1.89960472],\n",
       "       [2.06140795],\n",
       "       [1.71357179],\n",
       "       [2.10613771],\n",
       "       [1.87997775],\n",
       "       [2.19725986],\n",
       "       [2.10401712],\n",
       "       [2.14464102],\n",
       "       [2.23696538],\n",
       "       [2.27813513],\n",
       "       [2.01408863],\n",
       "       [1.88431219],\n",
       "       [1.95075563],\n",
       "       [1.89903188],\n",
       "       [1.97980344],\n",
       "       [2.2206825 ],\n",
       "       [2.33727413],\n",
       "       [1.87363355],\n",
       "       [2.00784542],\n",
       "       [2.11328206],\n",
       "       [1.98954698],\n",
       "       [1.98257584],\n",
       "       [1.99104743],\n",
       "       [2.02644187],\n",
       "       [2.11507806],\n",
       "       [2.0331019 ],\n",
       "       [1.90941888],\n",
       "       [2.02844259],\n",
       "       [2.11879475],\n",
       "       [1.87359322],\n",
       "       [2.13403765],\n",
       "       [2.27495915],\n",
       "       [2.20061109],\n",
       "       [2.06754622],\n",
       "       [2.14488442],\n",
       "       [2.50242006],\n",
       "       [1.91823858],\n",
       "       [2.28757758],\n",
       "       [2.01539259],\n",
       "       [2.2521258 ],\n",
       "       [2.17555835],\n",
       "       [2.41000996],\n",
       "       [2.06169623],\n",
       "       [2.13568683],\n",
       "       [2.16020335],\n",
       "       [2.2214577 ],\n",
       "       [2.18803088],\n",
       "       [2.0488424 ],\n",
       "       [1.92389841],\n",
       "       [2.1033012 ],\n",
       "       [2.04088102]])"
      ]
     },
     "execution_count": 43,
     "metadata": {
      "tags": []
     },
     "output_type": "execute_result"
    }
   ],
   "source": [
    "x"
   ]
  },
  {
   "cell_type": "markdown",
   "metadata": {
    "colab_type": "text",
    "id": "kz9aIa22Z9t2"
   },
   "source": [
    "![alt text](https://wikimedia.org/api/rest_v1/media/math/render/svg/4abaca87a10ecfa77b5a205056523706fe6c9c3f)"
   ]
  },
  {
   "cell_type": "code",
   "execution_count": 0,
   "metadata": {
    "colab": {},
    "colab_type": "code",
    "id": "3RtI2IX_YZsy"
   },
   "outputs": [],
   "source": [
    "def normal_pdf(x,mu,sigma): #defines the normal pdf\n",
    "  \n",
    "  return (1/(np.sqrt(2*np.pi*sigma**2)))*np.exp((-(x-mu)**2)/(2*sigma**2))"
   ]
  },
  {
   "cell_type": "code",
   "execution_count": 0,
   "metadata": {
    "colab": {},
    "colab_type": "code",
    "id": "vg0kefygag1y"
   },
   "outputs": [],
   "source": [
    "x = np.linspace(-4,4,100)"
   ]
  },
  {
   "cell_type": "code",
   "execution_count": 0,
   "metadata": {
    "colab": {},
    "colab_type": "code",
    "id": "WJoBzkgpnBPR"
   },
   "outputs": [],
   "source": [
    "mu = 2.1"
   ]
  },
  {
   "cell_type": "code",
   "execution_count": 0,
   "metadata": {
    "colab": {},
    "colab_type": "code",
    "id": "c1_jrDvenFrM"
   },
   "outputs": [],
   "source": [
    "sigma = 0.12"
   ]
  },
  {
   "cell_type": "code",
   "execution_count": 0,
   "metadata": {
    "colab": {},
    "colab_type": "code",
    "id": "YGwLkYgenTCF"
   },
   "outputs": [],
   "source": [
    "y = normal_pdf(x,mu,sigma)"
   ]
  },
  {
   "cell_type": "code",
   "execution_count": 0,
   "metadata": {
    "colab": {
     "base_uri": "https://localhost:8080/",
     "height": 364
    },
    "colab_type": "code",
    "executionInfo": {
     "elapsed": 3656,
     "status": "ok",
     "timestamp": 1554684310917,
     "user": {
      "displayName": "Tristan Irons",
      "photoUrl": "",
      "userId": "06363254473347900275"
     },
     "user_tz": 240
    },
    "id": "cxKTq_qtagyI",
    "outputId": "0ac14736-57b9-4608-9c49-33dbfd8fe165"
   },
   "outputs": [
    {
     "data": {
      "text/plain": [
       "[<matplotlib.lines.Line2D at 0x7f80fac732b0>]"
      ]
     },
     "execution_count": 49,
     "metadata": {
      "tags": []
     },
     "output_type": "execute_result"
    },
    {
     "data": {
      "image/png": "[encoded data removed]",
      "text/plain": [
       "<Figure size 576x396 with 1 Axes>"
      ]
     },
     "metadata": {
      "tags": []
     },
     "output_type": "display_data"
    }
   ],
   "source": [
    "plt.plot(x,y) #normal distribution curve centered around mu with a modifier of sigma"
   ]
  },
  {
   "cell_type": "code",
   "execution_count": 0,
   "metadata": {
    "colab": {},
    "colab_type": "code",
    "id": "Zul-032onmLo"
   },
   "outputs": [],
   "source": [
    "S = sigma * np.random.randn(1,10) + mu"
   ]
  },
  {
   "cell_type": "code",
   "execution_count": 0,
   "metadata": {
    "colab": {
     "base_uri": "https://localhost:8080/",
     "height": 51
    },
    "colab_type": "code",
    "executionInfo": {
     "elapsed": 3651,
     "status": "ok",
     "timestamp": 1554684310924,
     "user": {
      "displayName": "Tristan Irons",
      "photoUrl": "",
      "userId": "06363254473347900275"
     },
     "user_tz": 240
    },
    "id": "Co5yUWMantTg",
    "outputId": "3c225ef3-25ed-45e1-bcc2-4186fa19b5d6"
   },
   "outputs": [
    {
     "data": {
      "text/plain": [
       "array([[3.01202393, 2.1766703 , 1.78150436, 2.6597182 , 3.15139146,\n",
       "        3.0922822 , 0.27392432, 1.2010006 , 1.19032295, 2.87027938]])"
      ]
     },
     "execution_count": 51,
     "metadata": {
      "tags": []
     },
     "output_type": "execute_result"
    }
   ],
   "source": [
    "normal_pdf(S,mu,sigma)"
   ]
  },
  {
   "cell_type": "code",
   "execution_count": 0,
   "metadata": {
    "colab": {
     "base_uri": "https://localhost:8080/",
     "height": 34
    },
    "colab_type": "code",
    "executionInfo": {
     "elapsed": 3644,
     "status": "ok",
     "timestamp": 1554684310925,
     "user": {
      "displayName": "Tristan Irons",
      "photoUrl": "",
      "userId": "06363254473347900275"
     },
     "user_tz": 240
    },
    "id": "DqoXnneuntPi",
    "outputId": "45383b90-9a21-49fa-e9be-4ef90ad647b6"
   },
   "outputs": [
    {
     "data": {
      "text/plain": [
       "340.26544804025076"
      ]
     },
     "execution_count": 52,
     "metadata": {
      "tags": []
     },
     "output_type": "execute_result"
    }
   ],
   "source": [
    "np.prod(normal_pdf(S,mu,sigma))"
   ]
  },
  {
   "cell_type": "code",
   "execution_count": 0,
   "metadata": {
    "colab": {},
    "colab_type": "code",
    "id": "_x19SmBfntLq"
   },
   "outputs": [],
   "source": []
  },
  {
   "cell_type": "code",
   "execution_count": 0,
   "metadata": {
    "colab": {},
    "colab_type": "code",
    "id": "020aiFRiDDBp"
   },
   "outputs": [],
   "source": [
    "mu = 1"
   ]
  },
  {
   "cell_type": "code",
   "execution_count": 0,
   "metadata": {
    "colab": {},
    "colab_type": "code",
    "id": "_5x9qWzvazoM"
   },
   "outputs": [],
   "source": [
    "sigma = 1"
   ]
  },
  {
   "cell_type": "code",
   "execution_count": 0,
   "metadata": {
    "colab": {
     "base_uri": "https://localhost:8080/",
     "height": 364
    },
    "colab_type": "code",
    "executionInfo": {
     "elapsed": 4094,
     "status": "ok",
     "timestamp": 1554684311385,
     "user": {
      "displayName": "Tristan Irons",
      "photoUrl": "",
      "userId": "06363254473347900275"
     },
     "user_tz": 240
    },
    "id": "oIxLWAcaazzM",
    "outputId": "836d3b09-489a-477e-b37c-d8a076791cb0"
   },
   "outputs": [
    {
     "data": {
      "text/plain": [
       "[<matplotlib.lines.Line2D at 0x7f80fad53eb8>]"
      ]
     },
     "execution_count": 55,
     "metadata": {
      "tags": []
     },
     "output_type": "execute_result"
    },
    {
     "data": {
      "image/png": "[encoded data removed]",
      "text/plain": [
       "<Figure size 576x396 with 1 Axes>"
      ]
     },
     "metadata": {
      "tags": []
     },
     "output_type": "display_data"
    }
   ],
   "source": [
    "plt.plot(x,y)"
   ]
  },
  {
   "cell_type": "code",
   "execution_count": 0,
   "metadata": {
    "colab": {},
    "colab_type": "code",
    "id": "qcYBNLWda-VV"
   },
   "outputs": [],
   "source": [
    "S = sigma * np.random.randn(1,10) + mu"
   ]
  },
  {
   "cell_type": "code",
   "execution_count": 0,
   "metadata": {
    "colab": {
     "base_uri": "https://localhost:8080/",
     "height": 51
    },
    "colab_type": "code",
    "executionInfo": {
     "elapsed": 4093,
     "status": "ok",
     "timestamp": 1554684311394,
     "user": {
      "displayName": "Tristan Irons",
      "photoUrl": "",
      "userId": "06363254473347900275"
     },
     "user_tz": 240
    },
    "id": "k3eo1fFwa-du",
    "outputId": "b0bbf7a3-4ed6-4838-9e23-6c65497e0285"
   },
   "outputs": [
    {
     "data": {
      "text/plain": [
       "array([[0.34452204, 0.39327053, 0.38180022, 0.39648104, 0.35918281,\n",
       "        0.0659108 , 0.35551477, 0.22107085, 0.36164105, 0.22071873]])"
      ]
     },
     "execution_count": 57,
     "metadata": {
      "tags": []
     },
     "output_type": "execute_result"
    }
   ],
   "source": [
    "normal_pdf(S,mu,sigma)"
   ]
  },
  {
   "cell_type": "code",
   "execution_count": 0,
   "metadata": {
    "colab": {
     "base_uri": "https://localhost:8080/",
     "height": 34
    },
    "colab_type": "code",
    "executionInfo": {
     "elapsed": 4086,
     "status": "ok",
     "timestamp": 1554684311395,
     "user": {
      "displayName": "Tristan Irons",
      "photoUrl": "",
      "userId": "06363254473347900275"
     },
     "user_tz": 240
    },
    "id": "YdR5yzlla-PM",
    "outputId": "af9cd792-9dcd-4a17-ba22-1ff6acbc77c5"
   },
   "outputs": [
    {
     "data": {
      "text/plain": [
       "3.0461071747888764e-06"
      ]
     },
     "execution_count": 58,
     "metadata": {
      "tags": []
     },
     "output_type": "execute_result"
    }
   ],
   "source": [
    "np.prod(normal_pdf(S,mu,sigma))"
   ]
  },
  {
   "cell_type": "code",
   "execution_count": 0,
   "metadata": {
    "colab": {},
    "colab_type": "code",
    "id": "53O9vvrEcRcT"
   },
   "outputs": [],
   "source": [
    "def normal_likelihood(S,mu,sigma):\n",
    "  \n",
    "  return np.prod(normal_pdf(S,mu,sigma))"
   ]
  },
  {
   "cell_type": "code",
   "execution_count": 0,
   "metadata": {
    "colab": {},
    "colab_type": "code",
    "id": "24wEweTIa-ke"
   },
   "outputs": [],
   "source": [
    "start = -5\n",
    "stop = 5\n",
    "step = 0.1\n",
    "\n",
    "L = []\n",
    "\n",
    "for m in np.arange(start,stop,step):\n",
    "  \n",
    "  L.append((m,normal_likelihood(S,m,sigma)))"
   ]
  },
  {
   "cell_type": "code",
   "execution_count": 0,
   "metadata": {
    "colab": {},
    "colab_type": "code",
    "id": "7Fc3glWka-r_"
   },
   "outputs": [],
   "source": [
    "L = np.asarray(L)"
   ]
  },
  {
   "cell_type": "code",
   "execution_count": 0,
   "metadata": {
    "colab": {
     "base_uri": "https://localhost:8080/",
     "height": 34
    },
    "colab_type": "code",
    "executionInfo": {
     "elapsed": 4081,
     "status": "ok",
     "timestamp": 1554684311401,
     "user": {
      "displayName": "Tristan Irons",
      "photoUrl": "",
      "userId": "06363254473347900275"
     },
     "user_tz": 240
    },
    "id": "MCVLvEbgckhj",
    "outputId": "81ba3145-5a05-47f4-f8a5-34ea035beabe"
   },
   "outputs": [
    {
     "data": {
      "text/plain": [
       "(100, 2)"
      ]
     },
     "execution_count": 62,
     "metadata": {
      "tags": []
     },
     "output_type": "execute_result"
    }
   ],
   "source": [
    "L.shape"
   ]
  },
  {
   "cell_type": "code",
   "execution_count": 0,
   "metadata": {
    "colab": {
     "base_uri": "https://localhost:8080/",
     "height": 364
    },
    "colab_type": "code",
    "executionInfo": {
     "elapsed": 4314,
     "status": "ok",
     "timestamp": 1554684311642,
     "user": {
      "displayName": "Tristan Irons",
      "photoUrl": "",
      "userId": "06363254473347900275"
     },
     "user_tz": 240
    },
    "id": "R1TxOLs1ckwu",
    "outputId": "3b2657af-dd96-441b-c133-0779a286e7a5"
   },
   "outputs": [
    {
     "data": {
      "text/plain": [
       "[<matplotlib.lines.Line2D at 0x7f80fadfb518>]"
      ]
     },
     "execution_count": 63,
     "metadata": {
      "tags": []
     },
     "output_type": "execute_result"
    },
    {
     "data": {
      "image/png": "[encoded data removed]",
      "text/plain": [
       "<Figure size 576x396 with 1 Axes>"
      ]
     },
     "metadata": {
      "tags": []
     },
     "output_type": "display_data"
    }
   ],
   "source": [
    "plt.plot(L[:,0],L[:,1])"
   ]
  },
  {
   "cell_type": "code",
   "execution_count": 0,
   "metadata": {
    "colab": {
     "base_uri": "https://localhost:8080/",
     "height": 34
    },
    "colab_type": "code",
    "executionInfo": {
     "elapsed": 4308,
     "status": "ok",
     "timestamp": 1554684311644,
     "user": {
      "displayName": "Tristan Irons",
      "photoUrl": "",
      "userId": "06363254473347900275"
     },
     "user_tz": 240
    },
    "id": "9HMjdpdqqg6R",
    "outputId": "e2341f10-86ed-455c-b2ff-0e295dbc3218"
   },
   "outputs": [
    {
     "data": {
      "text/plain": [
       "56"
      ]
     },
     "execution_count": 64,
     "metadata": {
      "tags": []
     },
     "output_type": "execute_result"
    }
   ],
   "source": [
    "np.argmax(L[:,1])"
   ]
  },
  {
   "cell_type": "code",
   "execution_count": 0,
   "metadata": {
    "colab": {
     "base_uri": "https://localhost:8080/",
     "height": 34
    },
    "colab_type": "code",
    "executionInfo": {
     "elapsed": 4301,
     "status": "ok",
     "timestamp": 1554684311645,
     "user": {
      "displayName": "Tristan Irons",
      "photoUrl": "",
      "userId": "06363254473347900275"
     },
     "user_tz": 240
    },
    "id": "7QGGXU8bqm66",
    "outputId": "e648222b-adad-4aa6-958b-5aed31799496"
   },
   "outputs": [
    {
     "data": {
      "text/plain": [
       "2.0999999999999748"
      ]
     },
     "execution_count": 65,
     "metadata": {
      "tags": []
     },
     "output_type": "execute_result"
    }
   ],
   "source": [
    "L[71,0]"
   ]
  },
  {
   "cell_type": "code",
   "execution_count": 0,
   "metadata": {
    "colab": {},
    "colab_type": "code",
    "id": "i94QiuXPq3rq"
   },
   "outputs": [],
   "source": [
    "mu = 1.123\n",
    "sigma = 0.123"
   ]
  },
  {
   "cell_type": "code",
   "execution_count": 0,
   "metadata": {
    "colab": {},
    "colab_type": "code",
    "id": "NLwRkbPrq3n0"
   },
   "outputs": [],
   "source": [
    "S = sigma * np.random.randn(1,100) + mu"
   ]
  },
  {
   "cell_type": "code",
   "execution_count": 0,
   "metadata": {
    "colab": {},
    "colab_type": "code",
    "id": "6_HF1Uo3q3kE"
   },
   "outputs": [],
   "source": [
    "mu = np.linspace(-4,4,1000)\n",
    "sigma = np.linspace(-4,4,1000)"
   ]
  },
  {
   "cell_type": "code",
   "execution_count": 0,
   "metadata": {
    "colab": {},
    "colab_type": "code",
    "id": "_FIHgsdfrXI9"
   },
   "outputs": [],
   "source": [
    "L = np.zeros ((mu.shape[0],sigma.shape[0]))\n",
    "for i in range(mu.shape[0]):\n",
    "  for j in range(sigma.shape[0]):\n",
    "    L[i,j] = normal_likelihood(S,mu[i],sigma[j])"
   ]
  },
  {
   "cell_type": "code",
   "execution_count": 0,
   "metadata": {
    "colab": {},
    "colab_type": "code",
    "id": "FRpRU8A8sOje"
   },
   "outputs": [],
   "source": [
    "def plot(x): #graphs the pdf\n",
    "  fig, ax = plt.subplots()\n",
    "  im = ax.imshow(x,cmap=plt.get_cmap('cool'))\n",
    "  plt.show"
   ]
  },
  {
   "cell_type": "code",
   "execution_count": 0,
   "metadata": {
    "colab": {
     "base_uri": "https://localhost:8080/",
     "height": 351
    },
    "colab_type": "code",
    "executionInfo": {
     "elapsed": 19288,
     "status": "ok",
     "timestamp": 1554684326646,
     "user": {
      "displayName": "Tristan Irons",
      "photoUrl": "",
      "userId": "06363254473347900275"
     },
     "user_tz": 240
    },
    "id": "14mJPZ2Ls_Xa",
    "outputId": "c78d9ca2-b669-4d19-af1f-2e683cc8641c"
   },
   "outputs": [
    {
     "data": {
      "image/png": "[encoded data removed]",
      "text/plain": [
       "<Figure size 576x396 with 1 Axes>"
      ]
     },
     "metadata": {
      "tags": []
     },
     "output_type": "display_data"
    }
   ],
   "source": [
    "plot(L)"
   ]
  },
  {
   "cell_type": "code",
   "execution_count": 0,
   "metadata": {
    "colab": {
     "base_uri": "https://localhost:8080/",
     "height": 34
    },
    "colab_type": "code",
    "executionInfo": {
     "elapsed": 19282,
     "status": "ok",
     "timestamp": 1554684326647,
     "user": {
      "displayName": "Tristan Irons",
      "photoUrl": "",
      "userId": "06363254473347900275"
     },
     "user_tz": 240
    },
    "id": "N2Iw1MBwrXQL",
    "outputId": "9547bf2f-6812-40df-8b58-303690f6ba42"
   },
   "outputs": [
    {
     "data": {
      "text/plain": [
       "641483"
      ]
     },
     "execution_count": 72,
     "metadata": {
      "tags": []
     },
     "output_type": "execute_result"
    }
   ],
   "source": [
    "np.argmax(L)"
   ]
  },
  {
   "cell_type": "code",
   "execution_count": 0,
   "metadata": {
    "colab": {
     "base_uri": "https://localhost:8080/",
     "height": 34
    },
    "colab_type": "code",
    "executionInfo": {
     "elapsed": 19273,
     "status": "ok",
     "timestamp": 1554684326648,
     "user": {
      "displayName": "Tristan Irons",
      "photoUrl": "",
      "userId": "06363254473347900275"
     },
     "user_tz": 240
    },
    "id": "q9A5G3p7rXY7",
    "outputId": "7f6bb816-456d-4650-9d34-cebb091f50b9"
   },
   "outputs": [
    {
     "data": {
      "text/plain": [
       "(641, 483)"
      ]
     },
     "execution_count": 73,
     "metadata": {
      "tags": []
     },
     "output_type": "execute_result"
    }
   ],
   "source": [
    "np.unravel_index(np.argmax(L), L.shape)"
   ]
  },
  {
   "cell_type": "code",
   "execution_count": 0,
   "metadata": {
    "colab": {
     "base_uri": "https://localhost:8080/",
     "height": 34
    },
    "colab_type": "code",
    "executionInfo": {
     "elapsed": 19254,
     "status": "ok",
     "timestamp": 1554684326649,
     "user": {
      "displayName": "Tristan Irons",
      "photoUrl": "",
      "userId": "06363254473347900275"
     },
     "user_tz": 240
    },
    "id": "vPlbVn-yrXf2",
    "outputId": "017e5675-aee6-4e3f-ecf9-8630cf914e71"
   },
   "outputs": [
    {
     "data": {
      "text/plain": [
       "5.345720989505384e+25"
      ]
     },
     "execution_count": 74,
     "metadata": {
      "tags": []
     },
     "output_type": "execute_result"
    }
   ],
   "source": [
    "L[639,485]"
   ]
  },
  {
   "cell_type": "code",
   "execution_count": 0,
   "metadata": {
    "colab": {
     "base_uri": "https://localhost:8080/",
     "height": 34
    },
    "colab_type": "code",
    "executionInfo": {
     "elapsed": 19466,
     "status": "ok",
     "timestamp": 1554684326869,
     "user": {
      "displayName": "Tristan Irons",
      "photoUrl": "",
      "userId": "06363254473347900275"
     },
     "user_tz": 240
    },
    "id": "QpsWY48OtpBN",
    "outputId": "a456ca8e-1d0b-42fd-bd28-55f975b595b2"
   },
   "outputs": [
    {
     "data": {
      "text/plain": [
       "1.1171171171171173"
      ]
     },
     "execution_count": 75,
     "metadata": {
      "tags": []
     },
     "output_type": "execute_result"
    }
   ],
   "source": [
    "mu[639]"
   ]
  },
  {
   "cell_type": "code",
   "execution_count": 0,
   "metadata": {
    "colab": {
     "base_uri": "https://localhost:8080/",
     "height": 34
    },
    "colab_type": "code",
    "executionInfo": {
     "elapsed": 19458,
     "status": "ok",
     "timestamp": 1554684326871,
     "user": {
      "displayName": "Tristan Irons",
      "photoUrl": "",
      "userId": "06363254473347900275"
     },
     "user_tz": 240
    },
    "id": "6tCLZJKVtpIv",
    "outputId": "a684dd49-d51d-4717-b8b4-d4cd140b9b70"
   },
   "outputs": [
    {
     "data": {
      "text/plain": [
       "-0.11611611611611616"
      ]
     },
     "execution_count": 76,
     "metadata": {
      "tags": []
     },
     "output_type": "execute_result"
    }
   ],
   "source": [
    "sigma[485]"
   ]
  },
  {
   "cell_type": "code",
   "execution_count": 0,
   "metadata": {
    "colab": {
     "base_uri": "https://localhost:8080/",
     "height": 34
    },
    "colab_type": "code",
    "executionInfo": {
     "elapsed": 19450,
     "status": "ok",
     "timestamp": 1554684326873,
     "user": {
      "displayName": "Tristan Irons",
      "photoUrl": "",
      "userId": "06363254473347900275"
     },
     "user_tz": 240
    },
    "id": "WNO9ykmztpRj",
    "outputId": "2dad5a47-161d-42f2-b12a-0766732d031f"
   },
   "outputs": [
    {
     "data": {
      "text/plain": [
       "3.2862601528904633e-16"
      ]
     },
     "execution_count": 77,
     "metadata": {
      "tags": []
     },
     "output_type": "execute_result"
    }
   ],
   "source": [
    "np.mean(x)"
   ]
  }
 ],
 "metadata": {
  "colab": {
   "collapsed_sections": [],
   "name": "HW7.ipynb",
   "provenance": []
  },
  "kernelspec": {
   "display_name": "Python 3",
   "language": "python",
   "name": "python3"
  },
  "language_info": {
   "codemirror_mode": {
    "name": "ipython",
    "version": 3
   },
   "file_extension": ".py",
   "mimetype": "text/x-python",
   "name": "python",
   "nbconvert_exporter": "python",
   "pygments_lexer": "ipython3",
   "version": "3.7.7"
  }
 },
 "nbformat": 4,
 "nbformat_minor": 1
}
